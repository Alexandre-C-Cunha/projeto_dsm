{
 "cells": [
  {
   "cell_type": "code",
   "execution_count": 1,
   "metadata": {},
   "outputs": [],
   "source": [
    "from pymongo import MongoClient\n",
    "import pandas as pd"
   ]
  },
  {
   "cell_type": "code",
   "execution_count": 58,
   "metadata": {},
   "outputs": [],
   "source": [
    "def acentuacao(x):\n",
    "    from unicodedata import normalize\n",
    "    source = x\n",
    "    try:\n",
    "        target = normalize('NFKD', source).encode('ASCII','ignore').decode('ASCII').upper()\n",
    "    except:\n",
    "        target=source\n",
    "    return(target)\n",
    "\n",
    "def telefones(col1, col2, col3, col4, col5, col6):\n",
    "    try:\n",
    "        if col1==0:\n",
    "            a=''\n",
    "        else:\n",
    "            a=\"(\"+str(int(col1))+\") \"+str(int(col2))\n",
    "    except:\n",
    "        a=\"(\"+str(int(col1))+\") \"+str((col2))\n",
    "    try:\n",
    "        if col3==0:\n",
    "            b=''\n",
    "        else:\n",
    "            b=\"(\"+str(int(col3))+\") \"+str(int(col4))\n",
    "    except:\n",
    "        b=\"(\"+str(int(col3))+\") \"+str((col4))\n",
    "    try:\n",
    "        if col5==0:\n",
    "            c=''\n",
    "        else:\n",
    "            c=\"(\"+str(int(col5))+\") \"+str(int(col6))\n",
    "    except:\n",
    "        c=\"(\"+str(int(col5))+\") \"+str((col6))\n",
    "    return(a+'/'+b+'/'+c)"
   ]
  },
  {
   "cell_type": "code",
   "execution_count": 3,
   "metadata": {
    "collapsed": true
   },
   "outputs": [
    {
     "name": "stdout",
     "output_type": "stream",
     "text": [
      "<class 'pandas.core.frame.DataFrame'>\n",
      "RangeIndex: 1583686 entries, 0 to 1583685\n",
      "Data columns (total 12 columns):\n",
      "Ano                         1583686 non-null int64\n",
      "Mês                         1583686 non-null int64\n",
      "Processo                    1478466 non-null float64\n",
      "AnoDoProcesso               1478466 non-null float64\n",
      "Tipo_PF_PJ                  1583686 non-null object\n",
      "CPF_CNPJ                    1583600 non-null object\n",
      "Substância                  1583686 non-null object\n",
      "UF                          1582134 non-null object\n",
      "Município                   1582134 non-null object\n",
      "QuantidadeComercializada    1568646 non-null object\n",
      "UnidadeDeMedida             1582981 non-null object\n",
      "ValorRecolhido              1583686 non-null object\n",
      "dtypes: float64(2), int64(2), object(8)\n",
      "memory usage: 145.0+ MB\n"
     ]
    }
   ],
   "source": [
    "df_cnpj_geral=pd.read_csv(r'C:\\Users\\vanes\\Documents\\projeto MIM\\BeautifulSoup\\Projeto IMP\\Base de Dados\\CFEM_Arrecadacao.csv',sep=';',encoding = \"ISO-8859-1\")\n",
    "df_cnpj_geral['Substância']=df_cnpj_geral['Substância'].apply(lambda x: acentuacao(x))\n",
    "df_cnpj_geral['Município']=df_cnpj_geral['Município'].apply(lambda x: acentuacao(x))\n",
    "df_cnpj_geral.info()"
   ]
  },
  {
   "cell_type": "code",
   "execution_count": 51,
   "metadata": {},
   "outputs": [
    {
     "name": "stdout",
     "output_type": "stream",
     "text": [
      "<class 'pandas.core.frame.DataFrame'>\n",
      "Int64Index: 15099 entries, 319 to 2634327\n",
      "Data columns (total 7 columns):\n",
      "CNPJ BÁSICO          15099 non-null int64\n",
      "RAZÃO SOCIAL         15099 non-null object\n",
      "NATUREZA JURÍDICA    15099 non-null int64\n",
      "RESPONSÁVEL          15099 non-null int64\n",
      "CAPITAL SOCIAL       15099 non-null object\n",
      "PORTE DA EMPRESA     15099 non-null float64\n",
      "ENTE FEDERATIVO      114 non-null object\n",
      "dtypes: float64(1), int64(3), object(3)\n",
      "memory usage: 943.7+ KB\n"
     ]
    }
   ],
   "source": [
    "#Dados CNPJ Basico\n",
    "df_cnpj=pd.read_pickle(r'C:\\Users\\vanes\\Documents\\projeto MIM\\BeautifulSoup\\Projeto IMP\\Base de Dados\\Notebook\\razão_social_cnpjs_busca_25_5_21.pickle')\n",
    "df_cnpj['RAZÃO SOCIAL']=df_cnpj['RAZÃO SOCIAL'].apply(lambda x: acentuacao(x))\n",
    "df_cnpj.info()"
   ]
  },
  {
   "cell_type": "code",
   "execution_count": 66,
   "metadata": {},
   "outputs": [
    {
     "name": "stdout",
     "output_type": "stream",
     "text": [
      "<class 'pandas.core.frame.DataFrame'>\n",
      "Int64Index: 43526 entries, 17487 to 4208979\n",
      "Data columns (total 31 columns):\n",
      "CNPJ BÁSICO                  43526 non-null int64\n",
      "CNPJ ORDEM                   43526 non-null int64\n",
      "CNPJ DV                      43526 non-null int64\n",
      "MATRIZ/FILIAL                43526 non-null int64\n",
      "NOME FANTASIA                43526 non-null object\n",
      "SITUAÇÃO CADASTRAL           43526 non-null int64\n",
      "DATA SITUAÇÃO                43526 non-null int64\n",
      "SITUAÇÃO_CADASTRA            43526 non-null int64\n",
      "NOME DA CIDADE EX            43526 non-null object\n",
      "PAIS                         43526 non-null float64\n",
      "INÍCIO ATIVIDADE             43526 non-null int64\n",
      "CNAE FISCAL PRINCIPAL        43526 non-null int64\n",
      "CNAE FISCAL SEC              43526 non-null object\n",
      "TIPO DE LOGRADOURO           43526 non-null object\n",
      "LOGRADOURO                   43526 non-null object\n",
      "NÚMERO                       43526 non-null object\n",
      "COMPLEMENTO                  43526 non-null object\n",
      "BAIRRO                       43526 non-null object\n",
      "CEP                          43526 non-null object\n",
      "UF                           43526 non-null object\n",
      "MUNICÍPIO                    43526 non-null int64\n",
      "DDD 1                        43526 non-null object\n",
      "TELEFONE 1                   43526 non-null object\n",
      "DDD 2                        43526 non-null float64\n",
      "TELEFONE 2                   43526 non-null object\n",
      "DDD DO FAX                   43526 non-null object\n",
      "FAX                          43526 non-null object\n",
      "CORREIO ELETRÔNICO           43526 non-null object\n",
      "SITUAÇÃO ESPECIAL            43526 non-null object\n",
      "DATA DA SITUAÇÃO ESPECIAL    43526 non-null float64\n",
      "Telefones                    43526 non-null object\n",
      "dtypes: float64(3), int64(10), object(18)\n",
      "memory usage: 10.6+ MB\n"
     ]
    }
   ],
   "source": [
    "#Dados CNPJ Completos\n",
    "df_cnpj_completo=pd.read_pickle(r'C:\\Users\\vanes\\Documents\\projeto MIM\\BeautifulSoup\\Projeto IMP\\Base de Dados\\Notebook\\dados_completos_cnpjs_b_25_5_21.pickle')\n",
    "df_cnpj_completo=df_cnpj_completo.fillna(0)\n",
    "df_cnpj_completo['Telefones']=df_cnpj_completo.apply(lambda x: telefones(x['DDD 1'], x['TELEFONE 1'], x['DDD 2'], x['TELEFONE 2'], x['DDD DO FAX'], x['FAX']), axis=1)\n",
    "df_cnpj_completo.info()"
   ]
  },
  {
   "cell_type": "code",
   "execution_count": 41,
   "metadata": {},
   "outputs": [
    {
     "name": "stdout",
     "output_type": "stream",
     "text": [
      "<class 'pandas.core.frame.DataFrame'>\n",
      "Int64Index: 143489 entries, 0 to 143488\n",
      "Data columns (total 17 columns):\n",
      "% Recolhimento_CFEM    143489 non-null object\n",
      "Ano                    143489 non-null int64\n",
      "CNPJ/CPF               143489 non-null object\n",
      "CPF_CNPJ               143489 non-null object\n",
      "Estados                143489 non-null object\n",
      "Município              143489 non-null object\n",
      "Nome Empresa           143489 non-null object\n",
      "Operacao               143489 non-null object\n",
      "Recolhimento_CFEM      143489 non-null object\n",
      "Região                 143489 non-null object\n",
      "Subgrupo               143489 non-null object\n",
      "Substância             143489 non-null object\n",
      "Tipo_PF_PJ             143489 non-null object\n",
      "UF                     143489 non-null object\n",
      "ValorRecolhido2        125853 non-null float64\n",
      "ValorRecolhido3        125853 non-null object\n",
      "nome_correto           143489 non-null object\n",
      "dtypes: float64(1), int64(1), object(15)\n",
      "memory usage: 19.7+ MB\n"
     ]
    }
   ],
   "source": [
    "#Dados da Operação\n",
    "df_operacao=pd.read_pickle(r'C:\\Users\\vanes\\Documents\\projeto MIM\\BeautifulSoup\\Projeto IMP\\Base de Dados\\Notebook\\df_operacao_atual_25_5_21_nomes_corretos.pickle')\n",
    "df_operacao['Substância']=df_operacao['Substância'].apply(lambda x: acentuacao(x))\n",
    "df_operacao['Subgrupo']=df_operacao['Subgrupo'].apply(lambda x: acentuacao(x))\n",
    "df_operacao['Região']=df_operacao['Região'].apply(lambda x: acentuacao(x))\n",
    "df_operacao['Município']=df_operacao['Município'].apply(lambda x: acentuacao(x))\n",
    "df_operacao['Estados']=df_operacao['Estados'].apply(lambda x: acentuacao(x))\n",
    "df_operacao.info()"
   ]
  },
  {
   "cell_type": "code",
   "execution_count": 76,
   "metadata": {},
   "outputs": [
    {
     "name": "stdout",
     "output_type": "stream",
     "text": [
      "<class 'pandas.core.frame.DataFrame'>\n",
      "Int64Index: 33172 entries, 33166 to 19492\n",
      "Data columns (total 17 columns):\n",
      "Municipio    33172 non-null object\n",
      "jan          33172 non-null object\n",
      "fev          33172 non-null object\n",
      "mar          33172 non-null object\n",
      "abr          33172 non-null object\n",
      "mai          33172 non-null object\n",
      "jun          33172 non-null object\n",
      "jul          33172 non-null object\n",
      "ago          33172 non-null object\n",
      "set          33172 non-null object\n",
      "out          33172 non-null object\n",
      "nov          33172 non-null object\n",
      "dez          33172 non-null object\n",
      "Total        33172 non-null object\n",
      "Ano          33172 non-null int32\n",
      "UF           33172 non-null object\n",
      "Total2       33172 non-null float64\n",
      "dtypes: float64(1), int32(1), object(15)\n",
      "memory usage: 4.4+ MB\n"
     ]
    }
   ],
   "source": [
    "#cfem municipio\n",
    "df_cfem_municipio=pd.read_pickle(r'C:\\Users\\vanes\\Documents\\projeto MIM\\BeautifulSoup\\Projeto IMP\\Base de Dados\\Notebook\\dados_tabela\\df_cfem_municipio.pickle')\n",
    "df_cfem_municipio['Municipio']=df_cfem_municipio['Municipio'].apply(lambda x: acentuacao(x))\n",
    "df_cfem_municipio.info()"
   ]
  },
  {
   "cell_type": "code",
   "execution_count": 4,
   "metadata": {},
   "outputs": [],
   "source": [
    "client = MongoClient('mongodb://localhost:27017/')"
   ]
  },
  {
   "cell_type": "code",
   "execution_count": 5,
   "metadata": {},
   "outputs": [
    {
     "data": {
      "text/plain": [
       "['admin', 'cfem', 'config', 'local']"
      ]
     },
     "execution_count": 5,
     "metadata": {},
     "output_type": "execute_result"
    }
   ],
   "source": [
    "client.list_database_names()"
   ]
  },
  {
   "cell_type": "code",
   "execution_count": 6,
   "metadata": {},
   "outputs": [],
   "source": [
    "db=client[\"cfem\"]"
   ]
  },
  {
   "cell_type": "code",
   "execution_count": 7,
   "metadata": {},
   "outputs": [
    {
     "data": {
      "text/plain": [
       "['cnpj_completo', 'empresas', 'operacao', 'cnpj_basico']"
      ]
     },
     "execution_count": 7,
     "metadata": {},
     "output_type": "execute_result"
    }
   ],
   "source": [
    "db.list_collection_names()"
   ]
  },
  {
   "cell_type": "code",
   "execution_count": 8,
   "metadata": {},
   "outputs": [],
   "source": [
    "cnpjs = db[\"empresas\"]"
   ]
  },
  {
   "cell_type": "code",
   "execution_count": 9,
   "metadata": {},
   "outputs": [
    {
     "data": {
      "text/plain": [
       "1583686"
      ]
     },
     "execution_count": 9,
     "metadata": {},
     "output_type": "execute_result"
    }
   ],
   "source": [
    "cnpjs.count_documents({})"
   ]
  },
  {
   "cell_type": "code",
   "execution_count": 17,
   "metadata": {
    "collapsed": true
   },
   "outputs": [
    {
     "ename": "TypeError",
     "evalue": "key must be an instance of str",
     "output_type": "error",
     "traceback": [
      "\u001b[1;31m---------------------------------------------------------------------------\u001b[0m",
      "\u001b[1;31mTypeError\u001b[0m                                 Traceback (most recent call last)",
      "\u001b[1;32m<ipython-input-17-d78d0777b731>\u001b[0m in \u001b[0;36m<module>\u001b[1;34m\u001b[0m\n\u001b[0;32m      1\u001b[0m \u001b[0mcnpj\u001b[0m\u001b[1;33m=\u001b[0m\u001b[0mlist\u001b[0m\u001b[1;33m(\u001b[0m\u001b[0mdf_cnpj_geral\u001b[0m\u001b[1;33m[\u001b[0m\u001b[1;34m'CPF_CNPJ'\u001b[0m\u001b[1;33m]\u001b[0m\u001b[1;33m.\u001b[0m\u001b[0msample\u001b[0m\u001b[1;33m(\u001b[0m\u001b[1;36m1\u001b[0m\u001b[1;33m)\u001b[0m\u001b[1;33m)\u001b[0m\u001b[1;33m[\u001b[0m\u001b[1;36m0\u001b[0m\u001b[1;33m]\u001b[0m\u001b[1;33m\u001b[0m\u001b[1;33m\u001b[0m\u001b[0m\n\u001b[1;32m----> 2\u001b[1;33m \u001b[0mcnpjs\u001b[0m\u001b[1;33m.\u001b[0m\u001b[0mdistinct\u001b[0m\u001b[1;33m(\u001b[0m\u001b[1;33m{\u001b[0m\u001b[1;34m\"cnpj\"\u001b[0m\u001b[1;33m:\u001b[0m\u001b[0mcnpj\u001b[0m\u001b[1;33m}\u001b[0m\u001b[1;33m)\u001b[0m\u001b[1;33m\u001b[0m\u001b[1;33m\u001b[0m\u001b[0m\n\u001b[0m",
      "\u001b[1;32m~\\Anaconda3\\lib\\site-packages\\pymongo\\collection.py\u001b[0m in \u001b[0;36mdistinct\u001b[1;34m(self, key, filter, session, **kwargs)\u001b[0m\n\u001b[0;32m   2732\u001b[0m         \u001b[1;32mif\u001b[0m \u001b[1;32mnot\u001b[0m \u001b[0misinstance\u001b[0m\u001b[1;33m(\u001b[0m\u001b[0mkey\u001b[0m\u001b[1;33m,\u001b[0m \u001b[0mstring_type\u001b[0m\u001b[1;33m)\u001b[0m\u001b[1;33m:\u001b[0m\u001b[1;33m\u001b[0m\u001b[1;33m\u001b[0m\u001b[0m\n\u001b[0;32m   2733\u001b[0m             raise TypeError(\"key must be an \"\n\u001b[1;32m-> 2734\u001b[1;33m                             \"instance of %s\" % (string_type.__name__,))\n\u001b[0m\u001b[0;32m   2735\u001b[0m         cmd = SON([(\"distinct\", self.__name),\n\u001b[0;32m   2736\u001b[0m                    (\"key\", key)])\n",
      "\u001b[1;31mTypeError\u001b[0m: key must be an instance of str"
     ]
    }
   ],
   "source": [
    "cnpj=list(df_cnpj_geral['CPF_CNPJ'].sample(1))[0]\n",
    "cnpjs.distinct({\"cnpj\":cnpj})"
   ]
  },
  {
   "cell_type": "code",
   "execution_count": 31,
   "metadata": {},
   "outputs": [
    {
     "data": {
      "text/plain": [
       "[nan, 'AVELINOPOLIS', 'FLORESTA', 'IPORA', 'ITABIRA', 'SANTA BARBARA DE GOIAS']"
      ]
     },
     "execution_count": 31,
     "metadata": {},
     "output_type": "execute_result"
    }
   ],
   "source": [
    "cnpjs.distinct(\"municipio\",{\"cnpj\": cnpj})"
   ]
  },
  {
   "cell_type": "code",
   "execution_count": 38,
   "metadata": {},
   "outputs": [
    {
     "data": {
      "text/plain": [
       "6507"
      ]
     },
     "execution_count": 38,
     "metadata": {},
     "output_type": "execute_result"
    }
   ],
   "source": [
    "len(cnpjs.distinct(\"cnpj\",{\"substancia\": 'AREIA'}))"
   ]
  },
  {
   "cell_type": "code",
   "execution_count": 47,
   "metadata": {
    "collapsed": true
   },
   "outputs": [
    {
     "name": "stdout",
     "output_type": "stream",
     "text": [
      "0\n",
      "10000\n",
      "20000\n",
      "30000\n",
      "40000\n",
      "50000\n",
      "60000\n",
      "70000\n",
      "80000\n",
      "90000\n",
      "100000\n",
      "110000\n",
      "120000\n",
      "130000\n",
      "140000\n"
     ]
    }
   ],
   "source": [
    "lista_json=[]\n",
    "cont=0\n",
    "for index, row in df_operacao.iterrows():\n",
    "    if cont%10000==0:\n",
    "        print(cont)\n",
    "    operacao.insert_one({\"cnpj\":row['CPF_CNPJ'],\"ano\":row['Ano'],\"cfem_percent\":row['% Recolhimento_CFEM'],\"tipo_pj_pf\":row['Tipo_PF_PJ'],\"substancia\":row['Substância'],\"uf\":row['UF'],\"municipio\":row['Município'],\"estado\":row['Estados'],\"regiao\":row['Região'],\"valor_cfem\":row['Recolhimento_CFEM'],\"nome_empresa\":row['nome_correto'],\"operacao\":row['Operacao'],\"subgrupo\":row['Subgrupo'],\"valor_cfem\":row['Recolhimento_CFEM']})\n",
    "    cont+=1"
   ]
  },
  {
   "cell_type": "code",
   "execution_count": 48,
   "metadata": {},
   "outputs": [
    {
     "data": {
      "text/plain": [
       "143489"
      ]
     },
     "execution_count": 48,
     "metadata": {},
     "output_type": "execute_result"
    }
   ],
   "source": [
    "operacao = db[\"operacao\"]\n",
    "operacao.count_documents({})"
   ]
  },
  {
   "cell_type": "code",
   "execution_count": 55,
   "metadata": {},
   "outputs": [
    {
     "data": {
      "text/plain": [
       "15099"
      ]
     },
     "execution_count": 55,
     "metadata": {},
     "output_type": "execute_result"
    }
   ],
   "source": [
    "cnpj_basico = db[\"cnpj_basico\"]\n",
    "cnpj_basico.count_documents({})"
   ]
  },
  {
   "cell_type": "code",
   "execution_count": 53,
   "metadata": {},
   "outputs": [
    {
     "data": {
      "text/plain": [
       "Index(['CNPJ BÁSICO', 'RAZÃO SOCIAL', 'NATUREZA JURÍDICA', 'RESPONSÁVEL',\n",
       "       'CAPITAL SOCIAL', 'PORTE DA EMPRESA', 'ENTE FEDERATIVO'],\n",
       "      dtype='object')"
      ]
     },
     "execution_count": 53,
     "metadata": {},
     "output_type": "execute_result"
    }
   ],
   "source": [
    "df_cnpj.columns"
   ]
  },
  {
   "cell_type": "code",
   "execution_count": 54,
   "metadata": {},
   "outputs": [
    {
     "name": "stdout",
     "output_type": "stream",
     "text": [
      "0\n",
      "10000\n"
     ]
    }
   ],
   "source": [
    "lista_json=[]\n",
    "cont=0\n",
    "for index, row in df_cnpj.iterrows():\n",
    "    if cont%10000==0:\n",
    "        print(cont)\n",
    "    cnpj_basico.insert_one({\"cnpj_basico\":row['CNPJ BÁSICO'],\"razao_social\":row['RAZÃO SOCIAL'],\"nat_juridica\":row['NATUREZA JURÍDICA'],\"responsavel\":row['RESPONSÁVEL'],\"capital_social\":row['CAPITAL SOCIAL'],\"porte_empresa\":row['PORTE DA EMPRESA']})\n",
    "    cont+=1"
   ]
  },
  {
   "cell_type": "code",
   "execution_count": 71,
   "metadata": {},
   "outputs": [
    {
     "data": {
      "text/plain": [
       "43526"
      ]
     },
     "execution_count": 71,
     "metadata": {},
     "output_type": "execute_result"
    }
   ],
   "source": [
    "cnpj_completo = db[\"cnpj_completo\"]\n",
    "cnpj_completo.count_documents({})"
   ]
  },
  {
   "cell_type": "code",
   "execution_count": 68,
   "metadata": {},
   "outputs": [
    {
     "data": {
      "text/plain": [
       "Index(['CNPJ BÁSICO', 'CNPJ ORDEM', 'CNPJ DV', 'MATRIZ/FILIAL',\n",
       "       'NOME FANTASIA', 'SITUAÇÃO CADASTRAL', 'DATA SITUAÇÃO',\n",
       "       'SITUAÇÃO_CADASTRA', 'NOME DA CIDADE EX', 'PAIS', 'INÍCIO ATIVIDADE',\n",
       "       'CNAE FISCAL PRINCIPAL', 'CNAE FISCAL SEC', 'TIPO DE LOGRADOURO',\n",
       "       'LOGRADOURO', 'NÚMERO', 'COMPLEMENTO', 'BAIRRO', 'CEP', 'UF',\n",
       "       'MUNICÍPIO', 'DDD 1', 'TELEFONE 1', 'DDD 2', 'TELEFONE 2', 'DDD DO FAX',\n",
       "       'FAX', 'CORREIO ELETRÔNICO', 'SITUAÇÃO ESPECIAL',\n",
       "       'DATA DA SITUAÇÃO ESPECIAL', 'Telefones'],\n",
       "      dtype='object')"
      ]
     },
     "execution_count": 68,
     "metadata": {},
     "output_type": "execute_result"
    }
   ],
   "source": [
    "df_cnpj_completo.columns"
   ]
  },
  {
   "cell_type": "code",
   "execution_count": 70,
   "metadata": {},
   "outputs": [
    {
     "name": "stdout",
     "output_type": "stream",
     "text": [
      "0\n",
      "10000\n",
      "20000\n",
      "30000\n",
      "40000\n"
     ]
    }
   ],
   "source": [
    "lista_json=[]\n",
    "cont=0\n",
    "for index, row in df_cnpj_completo.iterrows():\n",
    "    if cont%10000==0:\n",
    "        print(cont)\n",
    "    cnpj_completo.insert_one({\"cnpj_basico\":row['CNPJ BÁSICO'],\"cnpj_ordem\":row['CNPJ ORDEM'],\"cnpj_dv\":row['CNPJ DV'],\"matriz_filial\":row['MATRIZ/FILIAL'],\"nome_fantasia\":row['NOME FANTASIA'],\"cnae_principal\":row['CNAE FISCAL PRINCIPAL'],\"cnae_secundario\":row['CNAE FISCAL SEC'],\"tipo_logradouro\":row['TIPO DE LOGRADOURO'],\"logradouro\":row['LOGRADOURO'],\"numero\":row['NÚMERO'],\"complemento\":row['COMPLEMENTO'],\"bairro\":row['BAIRRO'],\"cep\":row['CEP'],\"uf\":row['UF'],\"municipio\":row['MUNICÍPIO'],\"telefone\":row['Telefones'],\"email\":row['CORREIO ELETRÔNICO']})\n",
    "    cont+=1"
   ]
  },
  {
   "cell_type": "code",
   "execution_count": 69,
   "metadata": {},
   "outputs": [
    {
     "data": {
      "text/html": [
       "<div>\n",
       "<style scoped>\n",
       "    .dataframe tbody tr th:only-of-type {\n",
       "        vertical-align: middle;\n",
       "    }\n",
       "\n",
       "    .dataframe tbody tr th {\n",
       "        vertical-align: top;\n",
       "    }\n",
       "\n",
       "    .dataframe thead th {\n",
       "        text-align: right;\n",
       "    }\n",
       "</style>\n",
       "<table border=\"1\" class=\"dataframe\">\n",
       "  <thead>\n",
       "    <tr style=\"text-align: right;\">\n",
       "      <th></th>\n",
       "      <th>CNPJ BÁSICO</th>\n",
       "      <th>CNPJ ORDEM</th>\n",
       "      <th>CNPJ DV</th>\n",
       "      <th>MATRIZ/FILIAL</th>\n",
       "      <th>NOME FANTASIA</th>\n",
       "      <th>SITUAÇÃO CADASTRAL</th>\n",
       "      <th>DATA SITUAÇÃO</th>\n",
       "      <th>SITUAÇÃO_CADASTRA</th>\n",
       "      <th>NOME DA CIDADE EX</th>\n",
       "      <th>PAIS</th>\n",
       "      <th>...</th>\n",
       "      <th>DDD 1</th>\n",
       "      <th>TELEFONE 1</th>\n",
       "      <th>DDD 2</th>\n",
       "      <th>TELEFONE 2</th>\n",
       "      <th>DDD DO FAX</th>\n",
       "      <th>FAX</th>\n",
       "      <th>CORREIO ELETRÔNICO</th>\n",
       "      <th>SITUAÇÃO ESPECIAL</th>\n",
       "      <th>DATA DA SITUAÇÃO ESPECIAL</th>\n",
       "      <th>Telefones</th>\n",
       "    </tr>\n",
       "  </thead>\n",
       "  <tbody>\n",
       "    <tr>\n",
       "      <td>17487</td>\n",
       "      <td>13665029</td>\n",
       "      <td>2</td>\n",
       "      <td>15</td>\n",
       "      <td>2</td>\n",
       "      <td>0</td>\n",
       "      <td>2</td>\n",
       "      <td>20200929</td>\n",
       "      <td>0</td>\n",
       "      <td>0</td>\n",
       "      <td>0.0</td>\n",
       "      <td>...</td>\n",
       "      <td>35</td>\n",
       "      <td>3.45218e+07</td>\n",
       "      <td>0.0</td>\n",
       "      <td>0</td>\n",
       "      <td>0</td>\n",
       "      <td>0</td>\n",
       "      <td>CONTABILCAREASSU@UOL.COM.BR</td>\n",
       "      <td>0</td>\n",
       "      <td>0.0</td>\n",
       "      <td>(35) 34521842//</td>\n",
       "    </tr>\n",
       "    <tr>\n",
       "      <td>19873</td>\n",
       "      <td>34808462</td>\n",
       "      <td>1</td>\n",
       "      <td>51</td>\n",
       "      <td>1</td>\n",
       "      <td>MINERACAO VMC EIRELI</td>\n",
       "      <td>2</td>\n",
       "      <td>20190909</td>\n",
       "      <td>0</td>\n",
       "      <td>0</td>\n",
       "      <td>0.0</td>\n",
       "      <td>...</td>\n",
       "      <td>27</td>\n",
       "      <td>9.8585e+07</td>\n",
       "      <td>0.0</td>\n",
       "      <td>0</td>\n",
       "      <td>0</td>\n",
       "      <td>0</td>\n",
       "      <td>MARCUS.CHASE@GMAIL.COM</td>\n",
       "      <td>0</td>\n",
       "      <td>0.0</td>\n",
       "      <td>(27) 98584972//</td>\n",
       "    </tr>\n",
       "    <tr>\n",
       "      <td>32793</td>\n",
       "      <td>33592510</td>\n",
       "      <td>165</td>\n",
       "      <td>81</td>\n",
       "      <td>2</td>\n",
       "      <td>CENTRAL FOTOVOLTAICA SOL DO CERRADO III</td>\n",
       "      <td>2</td>\n",
       "      <td>20201013</td>\n",
       "      <td>0</td>\n",
       "      <td>0</td>\n",
       "      <td>0.0</td>\n",
       "      <td>...</td>\n",
       "      <td>31</td>\n",
       "      <td>3.91635e+07</td>\n",
       "      <td>0.0</td>\n",
       "      <td>0</td>\n",
       "      <td>0</td>\n",
       "      <td>0</td>\n",
       "      <td>MERCES.BEDRAN@VALE.COM</td>\n",
       "      <td>0</td>\n",
       "      <td>0.0</td>\n",
       "      <td>(31) 39163453//</td>\n",
       "    </tr>\n",
       "    <tr>\n",
       "      <td>34885</td>\n",
       "      <td>31023302</td>\n",
       "      <td>17</td>\n",
       "      <td>76</td>\n",
       "      <td>2</td>\n",
       "      <td>0</td>\n",
       "      <td>2</td>\n",
       "      <td>20200115</td>\n",
       "      <td>0</td>\n",
       "      <td>0</td>\n",
       "      <td>0.0</td>\n",
       "      <td>...</td>\n",
       "      <td>27</td>\n",
       "      <td>3.75689e+07</td>\n",
       "      <td>27.0</td>\n",
       "      <td>3.75657e+07</td>\n",
       "      <td>0</td>\n",
       "      <td>0</td>\n",
       "      <td>CONTABILIDADE@THORGRANITOS.COM.BR</td>\n",
       "      <td>0</td>\n",
       "      <td>0.0</td>\n",
       "      <td>(27) 37568938/(27) 37565696/</td>\n",
       "    </tr>\n",
       "    <tr>\n",
       "      <td>36828</td>\n",
       "      <td>17185786</td>\n",
       "      <td>35</td>\n",
       "      <td>0</td>\n",
       "      <td>2</td>\n",
       "      <td>0</td>\n",
       "      <td>2</td>\n",
       "      <td>20201015</td>\n",
       "      <td>0</td>\n",
       "      <td>0</td>\n",
       "      <td>0.0</td>\n",
       "      <td>...</td>\n",
       "      <td>31</td>\n",
       "      <td>3.49036e+07</td>\n",
       "      <td>0.0</td>\n",
       "      <td>0</td>\n",
       "      <td>0</td>\n",
       "      <td>0</td>\n",
       "      <td>SETORFISCAL@CBMSA.COM.BR</td>\n",
       "      <td>0</td>\n",
       "      <td>0.0</td>\n",
       "      <td>(31) 34903600//</td>\n",
       "    </tr>\n",
       "    <tr>\n",
       "      <td>...</td>\n",
       "      <td>...</td>\n",
       "      <td>...</td>\n",
       "      <td>...</td>\n",
       "      <td>...</td>\n",
       "      <td>...</td>\n",
       "      <td>...</td>\n",
       "      <td>...</td>\n",
       "      <td>...</td>\n",
       "      <td>...</td>\n",
       "      <td>...</td>\n",
       "      <td>...</td>\n",
       "      <td>...</td>\n",
       "      <td>...</td>\n",
       "      <td>...</td>\n",
       "      <td>...</td>\n",
       "      <td>...</td>\n",
       "      <td>...</td>\n",
       "      <td>...</td>\n",
       "      <td>...</td>\n",
       "      <td>...</td>\n",
       "      <td>...</td>\n",
       "    </tr>\n",
       "    <tr>\n",
       "      <td>3515306</td>\n",
       "      <td>63878</td>\n",
       "      <td>3</td>\n",
       "      <td>38</td>\n",
       "      <td>2</td>\n",
       "      <td>GRANOBRAS EUCALIPTO</td>\n",
       "      <td>2</td>\n",
       "      <td>20100929</td>\n",
       "      <td>0</td>\n",
       "      <td>0</td>\n",
       "      <td>0.0</td>\n",
       "      <td>...</td>\n",
       "      <td>62</td>\n",
       "      <td>9.99441e+07</td>\n",
       "      <td>0.0</td>\n",
       "      <td>0</td>\n",
       "      <td>0</td>\n",
       "      <td>0</td>\n",
       "      <td>0</td>\n",
       "      <td>0</td>\n",
       "      <td>0.0</td>\n",
       "      <td>(62) 99944137//</td>\n",
       "    </tr>\n",
       "    <tr>\n",
       "      <td>3615611</td>\n",
       "      <td>74569</td>\n",
       "      <td>55</td>\n",
       "      <td>94</td>\n",
       "      <td>2</td>\n",
       "      <td>0</td>\n",
       "      <td>2</td>\n",
       "      <td>20161201</td>\n",
       "      <td>0</td>\n",
       "      <td>0</td>\n",
       "      <td>0.0</td>\n",
       "      <td>...</td>\n",
       "      <td>16</td>\n",
       "      <td>4.00922e+07</td>\n",
       "      <td>0.0</td>\n",
       "      <td>0</td>\n",
       "      <td>0</td>\n",
       "      <td>0</td>\n",
       "      <td>CESAR.JESUS@KOANDINA.COM</td>\n",
       "      <td>0</td>\n",
       "      <td>0.0</td>\n",
       "      <td>(16) 40092216//</td>\n",
       "    </tr>\n",
       "    <tr>\n",
       "      <td>3655976</td>\n",
       "      <td>1474</td>\n",
       "      <td>2</td>\n",
       "      <td>39</td>\n",
       "      <td>2</td>\n",
       "      <td>0</td>\n",
       "      <td>2</td>\n",
       "      <td>20170214</td>\n",
       "      <td>0</td>\n",
       "      <td>0</td>\n",
       "      <td>0.0</td>\n",
       "      <td>...</td>\n",
       "      <td>15</td>\n",
       "      <td>3.56516e+07</td>\n",
       "      <td>0.0</td>\n",
       "      <td>0</td>\n",
       "      <td>15</td>\n",
       "      <td>3.56516e+07</td>\n",
       "      <td>CV_LTDA@HOTMAIL.COM</td>\n",
       "      <td>0</td>\n",
       "      <td>0.0</td>\n",
       "      <td>(15) 35651630//(15) 35651630</td>\n",
       "    </tr>\n",
       "    <tr>\n",
       "      <td>3787979</td>\n",
       "      <td>61493</td>\n",
       "      <td>5</td>\n",
       "      <td>1</td>\n",
       "      <td>2</td>\n",
       "      <td>0</td>\n",
       "      <td>8</td>\n",
       "      <td>20210217</td>\n",
       "      <td>1</td>\n",
       "      <td>0</td>\n",
       "      <td>0.0</td>\n",
       "      <td>...</td>\n",
       "      <td>51</td>\n",
       "      <td>3.06655e+07</td>\n",
       "      <td>0.0</td>\n",
       "      <td>0</td>\n",
       "      <td>0</td>\n",
       "      <td>0</td>\n",
       "      <td>PAULO@CONTACOMRS.COM.BR</td>\n",
       "      <td>0</td>\n",
       "      <td>0.0</td>\n",
       "      <td>(51) 30665454//</td>\n",
       "    </tr>\n",
       "    <tr>\n",
       "      <td>4208979</td>\n",
       "      <td>74569</td>\n",
       "      <td>60</td>\n",
       "      <td>51</td>\n",
       "      <td>2</td>\n",
       "      <td>0</td>\n",
       "      <td>2</td>\n",
       "      <td>20190408</td>\n",
       "      <td>0</td>\n",
       "      <td>0</td>\n",
       "      <td>0.0</td>\n",
       "      <td>...</td>\n",
       "      <td>21</td>\n",
       "      <td>2.42917e+07</td>\n",
       "      <td>0.0</td>\n",
       "      <td>0</td>\n",
       "      <td>0</td>\n",
       "      <td>0</td>\n",
       "      <td>0</td>\n",
       "      <td>0</td>\n",
       "      <td>0.0</td>\n",
       "      <td>(21) 24291700//</td>\n",
       "    </tr>\n",
       "  </tbody>\n",
       "</table>\n",
       "<p>43526 rows × 31 columns</p>\n",
       "</div>"
      ],
      "text/plain": [
       "         CNPJ BÁSICO  CNPJ ORDEM  CNPJ DV  MATRIZ/FILIAL  \\\n",
       "17487       13665029           2       15              2   \n",
       "19873       34808462           1       51              1   \n",
       "32793       33592510         165       81              2   \n",
       "34885       31023302          17       76              2   \n",
       "36828       17185786          35        0              2   \n",
       "...              ...         ...      ...            ...   \n",
       "3515306        63878           3       38              2   \n",
       "3615611        74569          55       94              2   \n",
       "3655976         1474           2       39              2   \n",
       "3787979        61493           5        1              2   \n",
       "4208979        74569          60       51              2   \n",
       "\n",
       "                                   NOME FANTASIA  SITUAÇÃO CADASTRAL  \\\n",
       "17487                                          0                   2   \n",
       "19873                       MINERACAO VMC EIRELI                   2   \n",
       "32793    CENTRAL FOTOVOLTAICA SOL DO CERRADO III                   2   \n",
       "34885                                          0                   2   \n",
       "36828                                          0                   2   \n",
       "...                                          ...                 ...   \n",
       "3515306                      GRANOBRAS EUCALIPTO                   2   \n",
       "3615611                                        0                   2   \n",
       "3655976                                        0                   2   \n",
       "3787979                                        0                   8   \n",
       "4208979                                        0                   2   \n",
       "\n",
       "         DATA SITUAÇÃO  SITUAÇÃO_CADASTRA NOME DA CIDADE EX  PAIS  ...  DDD 1  \\\n",
       "17487         20200929                  0                 0   0.0  ...     35   \n",
       "19873         20190909                  0                 0   0.0  ...     27   \n",
       "32793         20201013                  0                 0   0.0  ...     31   \n",
       "34885         20200115                  0                 0   0.0  ...     27   \n",
       "36828         20201015                  0                 0   0.0  ...     31   \n",
       "...                ...                ...               ...   ...  ...    ...   \n",
       "3515306       20100929                  0                 0   0.0  ...     62   \n",
       "3615611       20161201                  0                 0   0.0  ...     16   \n",
       "3655976       20170214                  0                 0   0.0  ...     15   \n",
       "3787979       20210217                  1                 0   0.0  ...     51   \n",
       "4208979       20190408                  0                 0   0.0  ...     21   \n",
       "\n",
       "          TELEFONE 1 DDD 2   TELEFONE 2 DDD DO FAX          FAX  \\\n",
       "17487    3.45218e+07   0.0            0          0            0   \n",
       "19873     9.8585e+07   0.0            0          0            0   \n",
       "32793    3.91635e+07   0.0            0          0            0   \n",
       "34885    3.75689e+07  27.0  3.75657e+07          0            0   \n",
       "36828    3.49036e+07   0.0            0          0            0   \n",
       "...              ...   ...          ...        ...          ...   \n",
       "3515306  9.99441e+07   0.0            0          0            0   \n",
       "3615611  4.00922e+07   0.0            0          0            0   \n",
       "3655976  3.56516e+07   0.0            0         15  3.56516e+07   \n",
       "3787979  3.06655e+07   0.0            0          0            0   \n",
       "4208979  2.42917e+07   0.0            0          0            0   \n",
       "\n",
       "                        CORREIO ELETRÔNICO SITUAÇÃO ESPECIAL  \\\n",
       "17487          CONTABILCAREASSU@UOL.COM.BR                 0   \n",
       "19873               MARCUS.CHASE@GMAIL.COM                 0   \n",
       "32793               MERCES.BEDRAN@VALE.COM                 0   \n",
       "34885    CONTABILIDADE@THORGRANITOS.COM.BR                 0   \n",
       "36828             SETORFISCAL@CBMSA.COM.BR                 0   \n",
       "...                                    ...               ...   \n",
       "3515306                                  0                 0   \n",
       "3615611           CESAR.JESUS@KOANDINA.COM                 0   \n",
       "3655976                CV_LTDA@HOTMAIL.COM                 0   \n",
       "3787979            PAULO@CONTACOMRS.COM.BR                 0   \n",
       "4208979                                  0                 0   \n",
       "\n",
       "        DATA DA SITUAÇÃO ESPECIAL                     Telefones  \n",
       "17487                         0.0               (35) 34521842//  \n",
       "19873                         0.0               (27) 98584972//  \n",
       "32793                         0.0               (31) 39163453//  \n",
       "34885                         0.0  (27) 37568938/(27) 37565696/  \n",
       "36828                         0.0               (31) 34903600//  \n",
       "...                           ...                           ...  \n",
       "3515306                       0.0               (62) 99944137//  \n",
       "3615611                       0.0               (16) 40092216//  \n",
       "3655976                       0.0  (15) 35651630//(15) 35651630  \n",
       "3787979                       0.0               (51) 30665454//  \n",
       "4208979                       0.0               (21) 24291700//  \n",
       "\n",
       "[43526 rows x 31 columns]"
      ]
     },
     "execution_count": 69,
     "metadata": {},
     "output_type": "execute_result"
    }
   ],
   "source": [
    "df_cnpj_completo"
   ]
  },
  {
   "cell_type": "code",
   "execution_count": 74,
   "metadata": {},
   "outputs": [
    {
     "data": {
      "text/html": [
       "<div>\n",
       "<style scoped>\n",
       "    .dataframe tbody tr th:only-of-type {\n",
       "        vertical-align: middle;\n",
       "    }\n",
       "\n",
       "    .dataframe tbody tr th {\n",
       "        vertical-align: top;\n",
       "    }\n",
       "\n",
       "    .dataframe thead th {\n",
       "        text-align: right;\n",
       "    }\n",
       "</style>\n",
       "<table border=\"1\" class=\"dataframe\">\n",
       "  <thead>\n",
       "    <tr style=\"text-align: right;\">\n",
       "      <th></th>\n",
       "      <th>Municipio</th>\n",
       "      <th>jan</th>\n",
       "      <th>fev</th>\n",
       "      <th>mar</th>\n",
       "      <th>abr</th>\n",
       "      <th>mai</th>\n",
       "      <th>jun</th>\n",
       "      <th>jul</th>\n",
       "      <th>ago</th>\n",
       "      <th>set</th>\n",
       "      <th>out</th>\n",
       "      <th>nov</th>\n",
       "      <th>dez</th>\n",
       "      <th>Total</th>\n",
       "      <th>Ano</th>\n",
       "      <th>UF</th>\n",
       "      <th>Total2</th>\n",
       "    </tr>\n",
       "  </thead>\n",
       "  <tbody>\n",
       "    <tr>\n",
       "      <td>33166</td>\n",
       "      <td>***</td>\n",
       "      <td></td>\n",
       "      <td></td>\n",
       "      <td></td>\n",
       "      <td></td>\n",
       "      <td></td>\n",
       "      <td></td>\n",
       "      <td></td>\n",
       "      <td></td>\n",
       "      <td></td>\n",
       "      <td></td>\n",
       "      <td></td>\n",
       "      <td>260,79</td>\n",
       "      <td>260,79</td>\n",
       "      <td>2008</td>\n",
       "      <td>RS</td>\n",
       "      <td>260.79</td>\n",
       "    </tr>\n",
       "    <tr>\n",
       "      <td>24830</td>\n",
       "      <td>***</td>\n",
       "      <td></td>\n",
       "      <td></td>\n",
       "      <td></td>\n",
       "      <td></td>\n",
       "      <td></td>\n",
       "      <td></td>\n",
       "      <td></td>\n",
       "      <td></td>\n",
       "      <td>128,16</td>\n",
       "      <td></td>\n",
       "      <td></td>\n",
       "      <td></td>\n",
       "      <td>128,16</td>\n",
       "      <td>2012</td>\n",
       "      <td>RS</td>\n",
       "      <td>128.16</td>\n",
       "    </tr>\n",
       "    <tr>\n",
       "      <td>31183</td>\n",
       "      <td>***</td>\n",
       "      <td>203,36</td>\n",
       "      <td></td>\n",
       "      <td></td>\n",
       "      <td></td>\n",
       "      <td>36,75</td>\n",
       "      <td>11,51</td>\n",
       "      <td>17,00</td>\n",
       "      <td>25,08</td>\n",
       "      <td>14,88</td>\n",
       "      <td></td>\n",
       "      <td></td>\n",
       "      <td></td>\n",
       "      <td>308,58</td>\n",
       "      <td>2009</td>\n",
       "      <td>RS</td>\n",
       "      <td>308.58</td>\n",
       "    </tr>\n",
       "    <tr>\n",
       "      <td>23585</td>\n",
       "      <td>ABADIA DE GOIÁS</td>\n",
       "      <td></td>\n",
       "      <td></td>\n",
       "      <td>490,77</td>\n",
       "      <td></td>\n",
       "      <td></td>\n",
       "      <td></td>\n",
       "      <td></td>\n",
       "      <td></td>\n",
       "      <td></td>\n",
       "      <td></td>\n",
       "      <td></td>\n",
       "      <td></td>\n",
       "      <td>490,77</td>\n",
       "      <td>2012</td>\n",
       "      <td>GO</td>\n",
       "      <td>490.77</td>\n",
       "    </tr>\n",
       "    <tr>\n",
       "      <td>18683</td>\n",
       "      <td>ABADIA DE GOIÁS</td>\n",
       "      <td></td>\n",
       "      <td></td>\n",
       "      <td></td>\n",
       "      <td></td>\n",
       "      <td>120,70</td>\n",
       "      <td></td>\n",
       "      <td></td>\n",
       "      <td></td>\n",
       "      <td></td>\n",
       "      <td></td>\n",
       "      <td></td>\n",
       "      <td></td>\n",
       "      <td>120,70</td>\n",
       "      <td>2014</td>\n",
       "      <td>GO</td>\n",
       "      <td>120.70</td>\n",
       "    </tr>\n",
       "    <tr>\n",
       "      <td>...</td>\n",
       "      <td>...</td>\n",
       "      <td>...</td>\n",
       "      <td>...</td>\n",
       "      <td>...</td>\n",
       "      <td>...</td>\n",
       "      <td>...</td>\n",
       "      <td>...</td>\n",
       "      <td>...</td>\n",
       "      <td>...</td>\n",
       "      <td>...</td>\n",
       "      <td>...</td>\n",
       "      <td>...</td>\n",
       "      <td>...</td>\n",
       "      <td>...</td>\n",
       "      <td>...</td>\n",
       "      <td>...</td>\n",
       "      <td>...</td>\n",
       "    </tr>\n",
       "    <tr>\n",
       "      <td>7924</td>\n",
       "      <td>ÉRICO CARDOSO</td>\n",
       "      <td>340,00</td>\n",
       "      <td>340,00</td>\n",
       "      <td>340,00</td>\n",
       "      <td>340,00</td>\n",
       "      <td>340,00</td>\n",
       "      <td></td>\n",
       "      <td></td>\n",
       "      <td></td>\n",
       "      <td></td>\n",
       "      <td></td>\n",
       "      <td>6.213,33</td>\n",
       "      <td></td>\n",
       "      <td>7.913,33</td>\n",
       "      <td>2018</td>\n",
       "      <td>BA</td>\n",
       "      <td>7913.33</td>\n",
       "    </tr>\n",
       "    <tr>\n",
       "      <td>108</td>\n",
       "      <td>ÉRICO CARDOSO</td>\n",
       "      <td>1.747,60</td>\n",
       "      <td>2.019,20</td>\n",
       "      <td>4.027,92</td>\n",
       "      <td>5.328,22</td>\n",
       "      <td></td>\n",
       "      <td></td>\n",
       "      <td></td>\n",
       "      <td></td>\n",
       "      <td></td>\n",
       "      <td></td>\n",
       "      <td></td>\n",
       "      <td></td>\n",
       "      <td>13.122,94</td>\n",
       "      <td>2021</td>\n",
       "      <td>BA</td>\n",
       "      <td>13122.94</td>\n",
       "    </tr>\n",
       "    <tr>\n",
       "      <td>18404</td>\n",
       "      <td>ÉRICO CARDOSO</td>\n",
       "      <td>340,00</td>\n",
       "      <td>340,00</td>\n",
       "      <td>340,00</td>\n",
       "      <td>340,00</td>\n",
       "      <td>340,00</td>\n",
       "      <td>340,00</td>\n",
       "      <td>340,00</td>\n",
       "      <td>340,00</td>\n",
       "      <td>340,00</td>\n",
       "      <td>340,00</td>\n",
       "      <td>340,00</td>\n",
       "      <td>340,00</td>\n",
       "      <td>4.080,00</td>\n",
       "      <td>2014</td>\n",
       "      <td>BA</td>\n",
       "      <td>4080.00</td>\n",
       "    </tr>\n",
       "    <tr>\n",
       "      <td>2609</td>\n",
       "      <td>ÉRICO CARDOSO</td>\n",
       "      <td>2.592,45</td>\n",
       "      <td>2.747,21</td>\n",
       "      <td>3.300,51</td>\n",
       "      <td>2.631,59</td>\n",
       "      <td>312,75</td>\n",
       "      <td>380,86</td>\n",
       "      <td>494,97</td>\n",
       "      <td>2.950,19</td>\n",
       "      <td>1.942,85</td>\n",
       "      <td>3.003,84</td>\n",
       "      <td>3.830,98</td>\n",
       "      <td>3.018,31</td>\n",
       "      <td>27.206,51</td>\n",
       "      <td>2020</td>\n",
       "      <td>BA</td>\n",
       "      <td>27206.51</td>\n",
       "    </tr>\n",
       "    <tr>\n",
       "      <td>19492</td>\n",
       "      <td>ÓBIDOS</td>\n",
       "      <td></td>\n",
       "      <td></td>\n",
       "      <td></td>\n",
       "      <td></td>\n",
       "      <td></td>\n",
       "      <td></td>\n",
       "      <td></td>\n",
       "      <td>858,30</td>\n",
       "      <td></td>\n",
       "      <td></td>\n",
       "      <td></td>\n",
       "      <td></td>\n",
       "      <td>858,30</td>\n",
       "      <td>2014</td>\n",
       "      <td>PA</td>\n",
       "      <td>858.30</td>\n",
       "    </tr>\n",
       "  </tbody>\n",
       "</table>\n",
       "<p>33172 rows × 17 columns</p>\n",
       "</div>"
      ],
      "text/plain": [
       "             Municipio       jan       fev       mar       abr     mai  \\\n",
       "33166              ***                                                   \n",
       "24830              ***                                                   \n",
       "31183              ***    203,36                                 36,75   \n",
       "23585  ABADIA DE GOIÁS                        490,77                     \n",
       "18683  ABADIA DE GOIÁS                                          120,70   \n",
       "...                ...       ...       ...       ...       ...     ...   \n",
       "7924     ÉRICO CARDOSO    340,00    340,00    340,00    340,00  340,00   \n",
       "108      ÉRICO CARDOSO  1.747,60  2.019,20  4.027,92  5.328,22           \n",
       "18404    ÉRICO CARDOSO    340,00    340,00    340,00    340,00  340,00   \n",
       "2609     ÉRICO CARDOSO  2.592,45  2.747,21  3.300,51  2.631,59  312,75   \n",
       "19492           ÓBIDOS                                                   \n",
       "\n",
       "          jun     jul       ago       set       out       nov       dez  \\\n",
       "33166                                                            260,79   \n",
       "24830                              128,16                                 \n",
       "31183   11,51   17,00     25,08     14,88                                 \n",
       "23585                                                                     \n",
       "18683                                                                     \n",
       "...       ...     ...       ...       ...       ...       ...       ...   \n",
       "7924                                                 6.213,33             \n",
       "108                                                                       \n",
       "18404  340,00  340,00    340,00    340,00    340,00    340,00    340,00   \n",
       "2609   380,86  494,97  2.950,19  1.942,85  3.003,84  3.830,98  3.018,31   \n",
       "19492                    858,30                                           \n",
       "\n",
       "           Total   Ano  UF    Total2  \n",
       "33166     260,79  2008  RS    260.79  \n",
       "24830     128,16  2012  RS    128.16  \n",
       "31183     308,58  2009  RS    308.58  \n",
       "23585     490,77  2012  GO    490.77  \n",
       "18683     120,70  2014  GO    120.70  \n",
       "...          ...   ...  ..       ...  \n",
       "7924    7.913,33  2018  BA   7913.33  \n",
       "108    13.122,94  2021  BA  13122.94  \n",
       "18404   4.080,00  2014  BA   4080.00  \n",
       "2609   27.206,51  2020  BA  27206.51  \n",
       "19492     858,30  2014  PA    858.30  \n",
       "\n",
       "[33172 rows x 17 columns]"
      ]
     },
     "execution_count": 74,
     "metadata": {},
     "output_type": "execute_result"
    }
   ],
   "source": [
    "#investigar dados\n",
    "df_invest=pd.read_pickle(r'C:\\Users\\vanes\\Documents\\projeto MIM\\BeautifulSoup\\Projeto IMP\\Base de Dados\\Notebook\\dados_tabela\\df_cfem_municipio.pickle')\n",
    "df_invest                     "
   ]
  },
  {
   "cell_type": "code",
   "execution_count": null,
   "metadata": {},
   "outputs": [],
   "source": []
  }
 ],
 "metadata": {
  "kernelspec": {
   "display_name": "Python 3",
   "language": "python",
   "name": "python3"
  },
  "language_info": {
   "codemirror_mode": {
    "name": "ipython",
    "version": 3
   },
   "file_extension": ".py",
   "mimetype": "text/x-python",
   "name": "python",
   "nbconvert_exporter": "python",
   "pygments_lexer": "ipython3",
   "version": "3.7.1"
  }
 },
 "nbformat": 4,
 "nbformat_minor": 2
}
