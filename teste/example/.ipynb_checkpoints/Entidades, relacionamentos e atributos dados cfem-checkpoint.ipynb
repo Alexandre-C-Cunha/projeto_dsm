{
 "cells": [
  {
   "cell_type": "code",
   "execution_count": 1,
   "metadata": {},
   "outputs": [],
   "source": [
    "import pandas as pd\n",
    "import numpy as np"
   ]
  },
  {
   "cell_type": "code",
   "execution_count": 2,
   "metadata": {},
   "outputs": [],
   "source": [
    "def CNPJ_BASICO(x):\n",
    "    if '*' not in x:\n",
    "        resp=int(x[:8])\n",
    "    else:\n",
    "        resp=np.nan\n",
    "    return(resp)\n",
    "\n",
    "def CNPJ_DV(x):\n",
    "    if '*' not in x:\n",
    "        resp=int(x[-2:])\n",
    "    else:\n",
    "        resp=np.nan\n",
    "    return(resp)\n",
    "\n",
    "def telefones(col1, col2, col3, col4, col5, col6):\n",
    "    try:\n",
    "        if col1==0:\n",
    "            a=''\n",
    "        else:\n",
    "            a=\"(\"+str(int(col1))+\") \"+str(int(col2))\n",
    "    except:\n",
    "        a=\"(\"+str(int(col1))+\") \"+str((col2))\n",
    "    try:\n",
    "        if col3==0:\n",
    "            b=''\n",
    "        else:\n",
    "            b=\"(\"+str(int(col3))+\") \"+str(int(col4))\n",
    "    except:\n",
    "        b=\"(\"+str(int(col3))+\") \"+str((col4))\n",
    "    try:\n",
    "        if col5==0:\n",
    "            c=''\n",
    "        else:\n",
    "            c=\"(\"+str(int(col5))+\") \"+str(int(col6))\n",
    "    except:\n",
    "        c=\"(\"+str(int(col5))+\") \"+str((col6))\n",
    "    return(a+'/'+b+'/'+c)\n",
    "\n",
    "def acentuacao(x):\n",
    "    from unicodedata import normalize\n",
    "    source = x\n",
    "    target = normalize('NFKD', source).encode('ASCII','ignore').decode('ASCII')\n",
    "    return(target)"
   ]
  },
  {
   "cell_type": "code",
   "execution_count": 19,
   "metadata": {},
   "outputs": [
    {
     "name": "stdout",
     "output_type": "stream",
     "text": [
      "<class 'pandas.core.frame.DataFrame'>\n",
      "RangeIndex: 1583686 entries, 0 to 1583685\n",
      "Data columns (total 12 columns):\n",
      "Ano                         1583686 non-null int64\n",
      "Mês                         1583686 non-null int64\n",
      "Processo                    1478466 non-null float64\n",
      "AnoDoProcesso               1478466 non-null float64\n",
      "Tipo_PF_PJ                  1583686 non-null object\n",
      "CPF_CNPJ                    1583600 non-null object\n",
      "Substância                  1583686 non-null object\n",
      "UF                          1582134 non-null object\n",
      "Município                   1582134 non-null object\n",
      "QuantidadeComercializada    1568646 non-null object\n",
      "UnidadeDeMedida             1582981 non-null object\n",
      "ValorRecolhido              1583686 non-null object\n",
      "dtypes: float64(2), int64(2), object(8)\n",
      "memory usage: 145.0+ MB\n"
     ]
    }
   ],
   "source": [
    "#Dados gerais\n",
    "df_geral=pd.read_csv('..\\CFEM_Arrecadacao.csv',sep=';',encoding = \"ISO-8859-1\")\n",
    "df_geral.info()"
   ]
  },
  {
   "cell_type": "code",
   "execution_count": 20,
   "metadata": {},
   "outputs": [
    {
     "name": "stdout",
     "output_type": "stream",
     "text": [
      "<class 'pandas.core.frame.DataFrame'>\n",
      "Int64Index: 143489 entries, 0 to 143488\n",
      "Data columns (total 17 columns):\n",
      "% Recolhimento_CFEM    143489 non-null object\n",
      "Ano                    143489 non-null int64\n",
      "CNPJ/CPF               143489 non-null object\n",
      "CPF_CNPJ               143489 non-null object\n",
      "Estados                143489 non-null object\n",
      "Município              143489 non-null object\n",
      "Nome Empresa           143489 non-null object\n",
      "Operacao               143489 non-null object\n",
      "Recolhimento_CFEM      143489 non-null object\n",
      "Região                 143489 non-null object\n",
      "Subgrupo               143489 non-null object\n",
      "Substância             143489 non-null object\n",
      "Tipo_PF_PJ             143489 non-null object\n",
      "UF                     143489 non-null object\n",
      "ValorRecolhido2        125853 non-null float64\n",
      "ValorRecolhido3        125853 non-null object\n",
      "nome_correto           143489 non-null object\n",
      "dtypes: float64(1), int64(1), object(15)\n",
      "memory usage: 19.7+ MB\n"
     ]
    },
    {
     "data": {
      "text/plain": [
       "% Recolhimento_CFEM      1693\n",
       "Ano                        18\n",
       "CNPJ/CPF                15692\n",
       "CPF_CNPJ                15692\n",
       "Estados                    27\n",
       "Município                3495\n",
       "Nome Empresa            16051\n",
       "Operacao               119418\n",
       "Recolhimento_CFEM      125668\n",
       "Região                      5\n",
       "Subgrupo                  110\n",
       "Substância                305\n",
       "Tipo_PF_PJ                  1\n",
       "UF                         27\n",
       "ValorRecolhido2        113112\n",
       "ValorRecolhido3        109666\n",
       "nome_correto            15293\n",
       "dtype: int64"
      ]
     },
     "execution_count": 20,
     "metadata": {},
     "output_type": "execute_result"
    }
   ],
   "source": [
    "#Dados da Operação\n",
    "df_operacao=pd.read_pickle('df_operacao_atual_25_5_21_nomes_corretos.pickle')\n",
    "df_operacao.info()\n",
    "df_operacao.nunique()"
   ]
  },
  {
   "cell_type": "code",
   "execution_count": 21,
   "metadata": {},
   "outputs": [
    {
     "data": {
      "text/plain": [
       "CNPJ BÁSICO          15099\n",
       "RAZÃO SOCIAL         14938\n",
       "NATUREZA JURÍDICA       27\n",
       "RESPONSÁVEL             15\n",
       "CAPITAL SOCIAL        1948\n",
       "PORTE DA EMPRESA         3\n",
       "ENTE FEDERATIVO        112\n",
       "dtype: int64"
      ]
     },
     "execution_count": 21,
     "metadata": {},
     "output_type": "execute_result"
    }
   ],
   "source": [
    "#Dados CNPJ Basico\n",
    "df_cnpj=pd.read_pickle('razão_social_cnpjs_busca_25_5_21.pickle')\n",
    "df_cnpj.nunique()"
   ]
  },
  {
   "cell_type": "code",
   "execution_count": 22,
   "metadata": {
    "scrolled": true
   },
   "outputs": [
    {
     "data": {
      "text/plain": [
       "CNPJ BÁSICO                  15099\n",
       "CNPJ ORDEM                     742\n",
       "CNPJ DV                        100\n",
       "MATRIZ/FILIAL                    2\n",
       "NOME FANTASIA                13734\n",
       "SITUAÇÃO CADASTRAL               5\n",
       "DATA SITUAÇÃO                 6749\n",
       "SITUAÇÃO_CADASTRA               28\n",
       "NOME DA CIDADE EX               26\n",
       "PAIS                            22\n",
       "INÍCIO ATIVIDADE             11680\n",
       "CNAE FISCAL PRINCIPAL          660\n",
       "CNAE FISCAL SEC               9390\n",
       "TIPO DE LOGRADOURO             132\n",
       "LOGRADOURO                   26509\n",
       "NÚMERO                        4525\n",
       "COMPLEMENTO                  12437\n",
       "BAIRRO                       11166\n",
       "CEP                          14167\n",
       "UF                              28\n",
       "MUNICÍPIO                     3802\n",
       "DDD 1                          144\n",
       "TELEFONE 1                   17022\n",
       "DDD 2                           71\n",
       "TELEFONE 2                    5612\n",
       "DDD DO FAX                     106\n",
       "FAX                           7961\n",
       "CORREIO ELETRÔNICO           10494\n",
       "SITUAÇÃO ESPECIAL                2\n",
       "DATA DA SITUAÇÃO ESPECIAL        2\n",
       "Telefones                    18773\n",
       "dtype: int64"
      ]
     },
     "execution_count": 22,
     "metadata": {},
     "output_type": "execute_result"
    }
   ],
   "source": [
    "#Dados CNPJ Completos\n",
    "df_cnpj_completo=pd.read_pickle('dados_completos_cnpjs_b_25_5_21.pickle')\n",
    "df_cnpj_completo=df_cnpj_completo.fillna(0)\n",
    "df_cnpj_completo['Telefones']=df_cnpj_completo.apply(lambda x: telefones(x['DDD 1'], x['TELEFONE 1'], x['DDD 2'], x['TELEFONE 2'], x['DDD DO FAX'], x['FAX']), axis=1)\n",
    "df_cnpj_completo.nunique()"
   ]
  },
  {
   "cell_type": "markdown",
   "metadata": {},
   "source": [
    "<h2>Entidades</h2>\n",
    "\n",
    "Tipo_PF_PJ<br>\n",
    "OPERAÇÃO<br>\n",
    "CFEM<br>\n",
    "NOME EMPRESA<br>\n",
    "SUBSTÂNCIA<br> \n",
    "SUBGRUPO<br>\n",
    "ANO CFEM<br>\n",
    "MES CFEM<br>\n",
    "BAIRRO<br>\n",
    "MUNICIPIO CFEM<br>\n",
    "ESTADO CFEM<br>\n",
    "REGIÃO CFEM<br>\n",
    "MUNICIPIO EMPRESA<br>\n",
    "ESTADO EMPRESA<br>\n",
    "REGIÃO EMPRESA<br>\n",
    "MATRIZ/FILIAL<br>\n",
    "NOME FANTASIA<br>\n",
    "CNAE FISCAL PRINCIPAL<br>\n",
    "CNAE FISCAL SEC<br>\n",
    "NATUREZA JURÍDICA<br>\n",
    "RESPONSÁVEL<br>\n",
    "CAPITAL SOCIAL<br>\n",
    "PORTE DA EMPRESA<br>\n",
    "PAIS<br>"
   ]
  },
  {
   "cell_type": "code",
   "execution_count": 23,
   "metadata": {},
   "outputs": [],
   "source": [
    "#df_cnpj_completo"
   ]
  },
  {
   "cell_type": "markdown",
   "metadata": {},
   "source": [
    "<h2>Montagem de Tabelas</h2>"
   ]
  },
  {
   "cell_type": "code",
   "execution_count": 24,
   "metadata": {},
   "outputs": [
    {
     "name": "stdout",
     "output_type": "stream",
     "text": [
      "<class 'pandas.core.frame.DataFrame'>\n",
      "RangeIndex: 3 entries, 0 to 2\n",
      "Data columns (total 3 columns):\n",
      "PK_METADADOS    3 non-null object\n",
      "LINKS           3 non-null object\n",
      "DATA            3 non-null object\n",
      "dtypes: object(3)\n",
      "memory usage: 200.0+ bytes\n"
     ]
    }
   ],
   "source": [
    "#METADADOS\n",
    "lista_nomes=['DDCFEM', 'DDOP', 'DDCNPJ']\n",
    "lista_links=['https://app.anm.gov.br/DadosAbertos/ARRECADACAO/', 'https://sistemas.anm.gov.br/arrecadacao/extra/relatorios/cfem/maiores_arrecadadores.aspx', 'https://www.gov.br/receitafederal/pt-br/assuntos/orientacao-tributaria/cadastros/consultas/dados-publicos-cnpj']\n",
    "lista_datas=['24/05/2021','24/05/2021','08/05/2021']\n",
    "df_metadados=pd.DataFrame([])\n",
    "df_metadados['PK_METADADOS']=lista_nomes\n",
    "df_metadados['LINKS']=lista_links\n",
    "df_metadados['DATA']=lista_datas\n",
    "df_metadados.to_pickle('df_metadados[.pickle')\n",
    "df_metadados.info()"
   ]
  },
  {
   "cell_type": "code",
   "execution_count": 25,
   "metadata": {},
   "outputs": [
    {
     "name": "stdout",
     "output_type": "stream",
     "text": [
      "<class 'pandas.core.frame.DataFrame'>\n",
      "RangeIndex: 3 entries, 0 to 2\n",
      "Data columns (total 2 columns):\n",
      "TIPO_PF_PJ      3 non-null object\n",
      "FK_METADADOS    3 non-null object\n",
      "dtypes: object(2)\n",
      "memory usage: 176.0+ bytes\n"
     ]
    }
   ],
   "source": [
    "#TIPOS PJ PF\n",
    "df_tipos=pd.DataFrame([])\n",
    "lista_tipo_pj=list(df_geral['Tipo_PF_PJ'].unique())\n",
    "df_tipos['TIPO_PF_PJ']=lista_tipo_pj\n",
    "df_tipos['FK_METADADOS']='DDCFEM'\n",
    "df_tipos.to_pickle('dados_tabela/df_tipos_pj_pf.pickle')\n",
    "df_tipos.info()"
   ]
  },
  {
   "cell_type": "code",
   "execution_count": 26,
   "metadata": {},
   "outputs": [
    {
     "name": "stdout",
     "output_type": "stream",
     "text": [
      "<class 'pandas.core.frame.DataFrame'>\n",
      "Int64Index: 150291 entries, 0 to 150290\n",
      "Data columns (total 8 columns):\n",
      "PK               150291 non-null object\n",
      "Operacao         150291 non-null float64\n",
      "FK_METADADOS     150291 non-null object\n",
      "Ano              150291 non-null int64\n",
      "FK_CNPJ          150291 non-null object\n",
      "FK_SUBSTANCIA    150291 non-null object\n",
      "UF               150291 non-null object\n",
      "Município        150291 non-null object\n",
      "dtypes: float64(1), int64(1), object(6)\n",
      "memory usage: 10.3+ MB\n"
     ]
    },
    {
     "data": {
      "text/plain": [
       "PK               143489\n",
       "Operacao         119418\n",
       "FK_METADADOS          1\n",
       "Ano                  18\n",
       "FK_CNPJ           15692\n",
       "FK_SUBSTANCIA       305\n",
       "UF                   27\n",
       "Município          3490\n",
       "dtype: int64"
      ]
     },
     "execution_count": 26,
     "metadata": {},
     "output_type": "execute_result"
    }
   ],
   "source": [
    "#muda\n",
    "df_cnpjs_unicos=df_cnpjs_unicos.rename({'PK':'FK_CNPJ'}, axis=1)\n",
    "df_substancia=df_substancia.rename({'PK':'FK_SUBSTANCIA'}, axis=1)\n",
    "\n",
    "lista_primary_key=[]\n",
    "cont=0\n",
    "for x in range(143489):\n",
    "    x=str(cont)+'op'\n",
    "    lista_primary_key.append(x)\n",
    "    cont+=1\n",
    "len(lista_primary_key)\n",
    "#OPERAÇÃO\n",
    "df_operacao_valores=pd.DataFrame([])\n",
    "df_operacao_valores['Operacao']=list(df_operacao['Operacao'])\n",
    "df_operacao_valores['Operacao']=df_operacao_valores['Operacao'].apply(lambda x: float(x.replace('.','').replace(',','.')))\n",
    "df_operacao_valores['CPF_CNPJ']=list(df_operacao['CPF_CNPJ'])\n",
    "df_operacao_valores['Substância']=list(df_operacao['Substância'])\n",
    "df_operacao_valores['Município']=list(df_operacao['Município'])\n",
    "df_operacao_valores['Município']=df_operacao_valores['Município'].apply(lambda x: acentuacao(x).upper())\n",
    "df_operacao_valores['UF']=list(df_operacao['UF'])\n",
    "df_operacao_valores['Ano']=list(df_operacao['Ano'])\n",
    "df_operacao_valores['PK']=lista_primary_key\n",
    "df_operacao_valores['FK_METADADOS']='DDOP'\n",
    "df_operacao_valores=df_operacao_valores.merge(df_cnpjs_unicos[['FK_CNPJ', 'CPF_CNPJ']], on='CPF_CNPJ', how='left')\n",
    "df_operacao_valores=df_operacao_valores.merge(df_substancia[['FK_SUBSTANCIA', 'Substância']], on='Substância', how='left')\n",
    "df_operacao_valores=df_operacao_valores.drop(['CPF_CNPJ','Substância'], axis=1)\n",
    "df_operacao_valores=df_operacao_valores[['PK','Operacao','FK_METADADOS','Ano','FK_CNPJ','FK_SUBSTANCIA','UF','Município']]\n",
    "#volta\n",
    "df_cnpjs_unicos=df_cnpjs_unicos.rename({'FK_CNPJ':'PK'})\n",
    "df_substancia=df_substancia.rename({'FK_SUBSTANCIA':'PK'}, axis=1)\n",
    "#\n",
    "df_operacao_valores.info()\n",
    "df_operacao_valores.to_pickle('dados_tabela/df_valores_operacao.pickle')\n",
    "df_operacao_valores.nunique()"
   ]
  },
  {
   "cell_type": "code",
   "execution_count": null,
   "metadata": {},
   "outputs": [],
   "source": [
    "df_dicMunicipio=df_dicMunicipio.rename({'Município':'MUNICIPIO', 'FK_Municipio':'PK_COD_MUNICIPIO'}, axis=1)"
   ]
  },
  {
   "cell_type": "code",
   "execution_count": 36,
   "metadata": {},
   "outputs": [
    {
     "data": {
      "text/plain": [
       "PK               143489\n",
       "Operacao         119418\n",
       "FK_METADADOS          1\n",
       "Ano                  18\n",
       "FK_CNPJ           15692\n",
       "FK_SUBSTANCIA       305\n",
       "UF                   27\n",
       "Município          3490\n",
       "dtype: int64"
      ]
     },
     "execution_count": 36,
     "metadata": {},
     "output_type": "execute_result"
    }
   ],
   "source": [
    "df_operacao_valores.nunique()"
   ]
  },
  {
   "cell_type": "code",
   "execution_count": 37,
   "metadata": {},
   "outputs": [
    {
     "data": {
      "text/plain": [
       "Index(['% Recolhimento_CFEM', 'Ano', 'CNPJ/CPF', 'CPF_CNPJ', 'Estados',\n",
       "       'Município', 'Nome Empresa', 'Operacao', 'Recolhimento_CFEM', 'Região',\n",
       "       'Subgrupo', 'Substância', 'Tipo_PF_PJ', 'UF', 'ValorRecolhido2',\n",
       "       'ValorRecolhido3', 'nome_correto'],\n",
       "      dtype='object')"
      ]
     },
     "execution_count": 37,
     "metadata": {},
     "output_type": "execute_result"
    }
   ],
   "source": [
    "df_operacao.columns"
   ]
  },
  {
   "cell_type": "code",
   "execution_count": 38,
   "metadata": {},
   "outputs": [
    {
     "name": "stdout",
     "output_type": "stream",
     "text": [
      "<class 'pandas.core.frame.DataFrame'>\n",
      "Int64Index: 150291 entries, 0 to 150290\n",
      "Data columns (total 6 columns):\n",
      "CFEM_OPERACAO       150291 non-null float64\n",
      "CFEM_OPERACAO(%)    150291 non-null object\n",
      "FK_METADADOS        150291 non-null object\n",
      "PK                  150291 non-null object\n",
      "FK_CNPJ             150291 non-null object\n",
      "FK_SUBSTANCIA       150291 non-null object\n",
      "dtypes: float64(1), object(5)\n",
      "memory usage: 8.0+ MB\n"
     ]
    },
    {
     "data": {
      "text/plain": [
       "CFEM_OPERACAO       125668\n",
       "CFEM_OPERACAO(%)      1693\n",
       "FK_METADADOS             1\n",
       "PK                  143489\n",
       "FK_CNPJ              15692\n",
       "FK_SUBSTANCIA          305\n",
       "dtype: int64"
      ]
     },
     "execution_count": 38,
     "metadata": {},
     "output_type": "execute_result"
    }
   ],
   "source": [
    "#muda\n",
    "df_cnpjs_unicos=df_cnpjs_unicos.rename({'PK':'FK_CNPJ'}, axis=1)\n",
    "df_substancia=df_substancia.rename({'PK':'FK_SUBSTANCIA'}, axis=1)\n",
    "#CFEM OPERAÇÃO\n",
    "lista_primary_key=[]\n",
    "cont=0\n",
    "for x in range(143489):\n",
    "    x=str(cont)+'cfop'\n",
    "    lista_primary_key.append(x)\n",
    "    cont+=1\n",
    "len(lista_primary_key)\n",
    "df_cfem_op=pd.DataFrame([])\n",
    "df_cfem_op['CFEM_OPERACAO']=list(df_operacao['Recolhimento_CFEM'])\n",
    "df_cfem_op['CFEM_OPERACAO(%)']=list(df_operacao['% Recolhimento_CFEM'])\n",
    "df_cfem_op['CPF_CNPJ']=list(df_operacao['CPF_CNPJ'])\n",
    "df_cfem_op['Substância']=list(df_operacao['Substância'])\n",
    "df_cfem_op['CFEM_OPERACAO']=df_cfem_op['CFEM_OPERACAO'].apply(lambda x: float(x.replace('.','').replace(',','.')))\n",
    "df_cfem_op['FK_METADADOS']='DDOP'\n",
    "df_cfem_op['PK']=lista_primary_key\n",
    "df_cfem_op=df_cfem_op.merge(df_cnpjs_unicos[['FK_CNPJ', 'CPF_CNPJ']], on='CPF_CNPJ', how='left')\n",
    "df_cfem_op=df_cfem_op.merge(df_substancia[['FK_SUBSTANCIA', 'Substância']], on='Substância', how='left')\n",
    "df_cfem_op=df_cfem_op.drop(['CPF_CNPJ','Substância'], axis=1)\n",
    "df_cfem_op.to_pickle('dados_tabela/df_cfem_operacao.pickle')\n",
    "#volta\n",
    "df_cnpjs_unicos=df_cnpjs_unicos.rename({'FK_CNPJ':'PK'})\n",
    "df_substancia=df_substancia.rename({'FK_SUBSTANCIA':'PK'}, axis=1)\n",
    "#\n",
    "df_cfem_op.info()\n",
    "df_cfem_op.nunique()"
   ]
  },
  {
   "cell_type": "code",
   "execution_count": 39,
   "metadata": {},
   "outputs": [
    {
     "data": {
      "text/plain": [
       "CFEM_OPERACAO       125668\n",
       "CFEM_OPERACAO(%)      1693\n",
       "FK_METADADOS             1\n",
       "PK                  143489\n",
       "FK_CNPJ              15692\n",
       "FK_SUBSTANCIA          305\n",
       "dtype: int64"
      ]
     },
     "execution_count": 39,
     "metadata": {},
     "output_type": "execute_result"
    }
   ],
   "source": [
    "df_cfem_op.nunique()"
   ]
  },
  {
   "cell_type": "code",
   "execution_count": 40,
   "metadata": {
    "scrolled": false
   },
   "outputs": [
    {
     "name": "stdout",
     "output_type": "stream",
     "text": [
      "<class 'pandas.core.frame.DataFrame'>\n",
      "Int64Index: 18618 entries, 0 to 18617\n",
      "Data columns (total 21 columns):\n",
      "CPF_CNPJ                 18618 non-null object\n",
      "Tipo_PF_PJ               18618 non-null object\n",
      "PK                       18618 non-null object\n",
      "CNPJ BÁSICO              16005 non-null float64\n",
      "CNPJ DV                  16005 non-null float64\n",
      "CORREIO ELETRÔNICO       15939 non-null object\n",
      "NOME FANTASIA            15939 non-null object\n",
      "MATRIZ/FILIAL            15939 non-null float64\n",
      "INÍCIO ATIVIDADE         15939 non-null float64\n",
      "PAIS                     15939 non-null float64\n",
      "NOME DA CIDADE EX        15939 non-null object\n",
      "Telefones                15939 non-null object\n",
      "CNAE FISCAL PRINCIPAL    15939 non-null float64\n",
      "CNAE FISCAL SEC          15939 non-null object\n",
      "RAZÃO SOCIAL             15975 non-null object\n",
      "NATUREZA JURÍDICA        15975 non-null float64\n",
      "RESPONSÁVEL              15975 non-null float64\n",
      "CAPITAL SOCIAL           15975 non-null object\n",
      "PORTE DA EMPRESA         15975 non-null float64\n",
      "ENTE FEDERATIVO          115 non-null object\n",
      "FK_METADADOS             18618 non-null object\n",
      "dtypes: float64(9), object(12)\n",
      "memory usage: 3.1+ MB\n"
     ]
    }
   ],
   "source": [
    "#CPF E CNPJ\n",
    "lista_primary_key=[]\n",
    "cont=0\n",
    "for x in range(18460):\n",
    "    x=str(cont)+'pfpj'\n",
    "    lista_primary_key.append(x)\n",
    "    cont+=1\n",
    "df_cnpjs_unicos=pd.DataFrame([])\n",
    "df_cnpjs_unicos['CPF_CNPJ']=list(df_geral['CPF_CNPJ'].unique())\n",
    "df_cnpjs_unicos=df_cnpjs_unicos.merge(df_geral[['Tipo_PF_PJ', 'CPF_CNPJ']], on='CPF_CNPJ').drop_duplicates().reset_index(drop=True)\n",
    "df_cnpjs_unicos=df_cnpjs_unicos[df_cnpjs_unicos['Tipo_PF_PJ']!='-']\n",
    "df_cnpjs_unicos=df_cnpjs_unicos[~df_cnpjs_unicos['CPF_CNPJ'].isnull()]\n",
    "df_cnpjs_unicos['PK']=lista_primary_key\n",
    "df_cnpjs_unicos['CNPJ BÁSICO']=df_cnpjs_unicos['CPF_CNPJ'].apply(lambda x: CNPJ_BASICO(x))\n",
    "df_cnpjs_unicos['CNPJ DV']=df_cnpjs_unicos['CPF_CNPJ'].apply(lambda x: CNPJ_DV(x))\n",
    "df_cnpjs_unicos=df_cnpjs_unicos.merge(df_cnpj_completo[['CORREIO ELETRÔNICO','NOME FANTASIA','MATRIZ/FILIAL','INÍCIO ATIVIDADE','PAIS','NOME DA CIDADE EX','CNPJ BÁSICO','CNPJ DV','Telefones','CNAE FISCAL PRINCIPAL','CNAE FISCAL SEC']], on=['CNPJ BÁSICO','CNPJ DV'], how='left')\n",
    "df_cnpjs_unicos=df_cnpjs_unicos.merge(df_cnpj, on='CNPJ BÁSICO', how='left')\n",
    "df_cnpjs_unicos['FK_METADADOS']='DDCNPJ'\n",
    "df_cnpjs_unicos=df_cnpjs_unicos.drop_duplicates()\n",
    "df_cnpjs_unicos.to_pickle('dados_tabela/df_cnpjs_unicos.pickle')\n",
    "df_cnpjs_unicos.info()"
   ]
  },
  {
   "cell_type": "code",
   "execution_count": 41,
   "metadata": {},
   "outputs": [
    {
     "name": "stdout",
     "output_type": "stream",
     "text": [
      "<class 'pandas.core.frame.DataFrame'>\n",
      "RangeIndex: 166 entries, 0 to 165\n",
      "Data columns (total 2 columns):\n",
      "Subgrupo    166 non-null object\n",
      "PK          166 non-null object\n",
      "dtypes: object(2)\n",
      "memory usage: 2.7+ KB\n"
     ]
    }
   ],
   "source": [
    "lista_primary_key=[]\n",
    "cont=0\n",
    "for x in range(166):\n",
    "    x=str(cont)+'subg'\n",
    "    lista_primary_key.append(x)\n",
    "    cont+=1\n",
    "df_subgrupo=pd.read_pickle('df_subgrupos.pickle')\n",
    "df_subgrupo2=df_subgrupo[['Subgrupo']]\n",
    "df_subgrupo2=df_subgrupo2.drop_duplicates().reset_index(drop=True)\n",
    "df_subgrupo2['PK']=lista_primary_key\n",
    "df_subgrupo2.to_pickle('dados_tabela/df_subgrupo_unicos.pickle')\n",
    "df_subgrupo2.info()"
   ]
  },
  {
   "cell_type": "code",
   "execution_count": 42,
   "metadata": {},
   "outputs": [
    {
     "name": "stdout",
     "output_type": "stream",
     "text": [
      "<class 'pandas.core.frame.DataFrame'>\n",
      "Int64Index: 834 entries, 0 to 833\n",
      "Data columns (total 3 columns):\n",
      "Substância     834 non-null object\n",
      "PK             834 non-null object\n",
      "FK_SUBGRUPO    834 non-null object\n",
      "dtypes: object(3)\n",
      "memory usage: 26.1+ KB\n"
     ]
    }
   ],
   "source": [
    "#muda\n",
    "df_subgrupo2=df_subgrupo2.rename({'PK':'FK_SUBGRUPO'}, axis=1)\n",
    "#SUBSTANCIAS\n",
    "lista_primary_key=[]\n",
    "cont=0\n",
    "for x in range(813):\n",
    "    x=str(cont)+'subs'\n",
    "    lista_primary_key.append(x)\n",
    "    cont+=1\n",
    "df_substancia=pd.DataFrame([])\n",
    "df_substancia['Substância']=list(df_subgrupo['Substância'].unique())\n",
    "df_substancia=df_substancia.sort_values('Substância').reset_index(drop=True)\n",
    "df_substancia['PK']=lista_primary_key\n",
    "df_substancia=df_substancia.merge(df_subgrupo, on='Substância')\n",
    "df_substancia=df_substancia.merge(df_subgrupo2, on='Subgrupo')\n",
    "df_substancia=df_substancia.drop('Subgrupo', axis=1)\n",
    "df_subgrupo2=df_subgrupo2.rename({'FK_SUBGRUPO':'PK'}, axis=1)\n",
    "df_substancia.to_pickle('dados_tabela/df_substancia.pickle')\n",
    "df_substancia.info()"
   ]
  },
  {
   "cell_type": "code",
   "execution_count": 43,
   "metadata": {},
   "outputs": [
    {
     "name": "stdout",
     "output_type": "stream",
     "text": [
      "<class 'pandas.core.frame.DataFrame'>\n",
      "RangeIndex: 1583686 entries, 0 to 1583685\n",
      "Data columns (total 8 columns):\n",
      "CFEM_MENSAL      1583686 non-null float64\n",
      "Ano              1583686 non-null int64\n",
      "Mês              1583686 non-null int64\n",
      "UF               1582134 non-null object\n",
      "PK               1583686 non-null object\n",
      "FK_METADADOS     1583686 non-null object\n",
      "FK_CNPJ          1583570 non-null object\n",
      "FK_SUBSTANCIA    1583682 non-null object\n",
      "dtypes: float64(1), int64(2), object(5)\n",
      "memory usage: 96.7+ MB\n"
     ]
    }
   ],
   "source": [
    "#muda\n",
    "df_cnpjs_unicos=df_cnpjs_unicos.rename({'PK':'FK_CNPJ'}, axis=1)\n",
    "df_substancia=df_substancia.rename({'PK':'FK_SUBSTANCIA'}, axis=1)\n",
    "#CFEM GERAL MENSAL\n",
    "lista_primary_key=[]\n",
    "cont=0\n",
    "for x in range(1583686):\n",
    "    x=str(cont)+'cf'\n",
    "    lista_primary_key.append(x)\n",
    "    cont+=1\n",
    "len(lista_primary_key)\n",
    "df_cfem=pd.DataFrame([])\n",
    "df_cfem['CFEM_MENSAL']=list(df_geral['ValorRecolhido'])\n",
    "df_cfem['CPF_CNPJ']=list(df_geral['CPF_CNPJ'])\n",
    "df_cfem['Substância']=list(df_geral['Substância'])\n",
    "df_cfem['Ano']=list(df_geral['Ano'])\n",
    "df_cfem['Mês']=list(df_geral['Mês'])\n",
    "df_cfem['UF']=list(df_geral['UF'])\n",
    "df_cfem['CFEM_MENSAL']=df_cfem['CFEM_MENSAL'].apply(lambda x: float(x.replace('.','').replace(',','.')))\n",
    "df_cfem['PK']=lista_primary_key\n",
    "df_cfem['FK_METADADOS']='DDCFEM'\n",
    "df_cfem=df_cfem.merge(df_cnpjs_unicos[['FK_CNPJ', 'CPF_CNPJ']], on='CPF_CNPJ', how='left')\n",
    "df_cfem=df_cfem.merge(df_substancia[['FK_SUBSTANCIA', 'Substância']], on='Substância', how='left')\n",
    "df_cfem=df_cfem.drop(['CPF_CNPJ','Substância'], axis=1)\n",
    "df_cfem=df_cfem.drop_duplicates()\n",
    "df_cfem=df_cfem.reset_index(drop=True)\n",
    "df_cfem.to_pickle('dados_tabela/df_cfem_mensal.pickle')\n",
    "df_cnpjs_unicos=df_cnpjs_unicos.rename({'FK_CNPJ':'PK'})\n",
    "df_substancia=df_substancia.rename({'FK_SUBSTANCIA':'PK'}, axis=1)\n",
    "df_cfem.info()"
   ]
  },
  {
   "cell_type": "code",
   "execution_count": 44,
   "metadata": {},
   "outputs": [
    {
     "name": "stdout",
     "output_type": "stream",
     "text": [
      "<class 'pandas.core.frame.DataFrame'>\n",
      "RangeIndex: 12 entries, 0 to 11\n",
      "Data columns (total 2 columns):\n",
      "PK       12 non-null int64\n",
      "Meses    12 non-null object\n",
      "dtypes: int64(1), object(1)\n",
      "memory usage: 320.0+ bytes\n"
     ]
    }
   ],
   "source": [
    "#CFEM GERAL MENSAL\n",
    "lista_primary_key=[]\n",
    "cont=1\n",
    "for x in range(12):\n",
    "    x=cont\n",
    "    lista_primary_key.append(x)\n",
    "    cont+=1\n",
    "len(lista_primary_key)\n",
    "df_meses=pd.DataFrame([])\n",
    "df_meses['PK']=lista_primary_key\n",
    "lista_meses=['JANEIRO', 'FEVEREIRO','MARÇO','ABRIL','MAIO','JUNHO','JULHO','AGOSTO','SETEMBRO','OUTUBRO','NOVEMBRO','DEZEMBRO']\n",
    "df_meses['Meses']=lista_meses\n",
    "df_meses.to_pickle('dados_tabela/df_meses.pickle')\n",
    "df_meses.info()"
   ]
  },
  {
   "cell_type": "code",
   "execution_count": 45,
   "metadata": {
    "scrolled": true
   },
   "outputs": [
    {
     "name": "stdout",
     "output_type": "stream",
     "text": [
      "<class 'pandas.core.frame.DataFrame'>\n",
      "RangeIndex: 27 entries, 0 to 26\n",
      "Data columns (total 3 columns):\n",
      "UF         27 non-null object\n",
      "Estados    27 non-null object\n",
      "Região     27 non-null object\n",
      "dtypes: object(3)\n",
      "memory usage: 776.0+ bytes\n"
     ]
    }
   ],
   "source": [
    "#REGIÃO, ESTADO, UF\n",
    "df_regiao=pd.read_pickle('dados_tabela/df_estados_siglas.pickle')\n",
    "df_regiao.info()"
   ]
  },
  {
   "cell_type": "code",
   "execution_count": 46,
   "metadata": {},
   "outputs": [
    {
     "name": "stdout",
     "output_type": "stream",
     "text": [
      "<class 'pandas.core.frame.DataFrame'>\n",
      "RangeIndex: 19753 entries, 0 to 19752\n",
      "Data columns (total 3 columns):\n",
      "CNPJ BÁSICO      19753 non-null int64\n",
      "CNPJ DV          19753 non-null int64\n",
      "NOME FANTASIA    19753 non-null object\n",
      "dtypes: int64(2), object(1)\n",
      "memory usage: 463.1+ KB\n"
     ]
    }
   ],
   "source": [
    "df_nome_fantasia=df_cnpj_completo[['CNPJ BÁSICO','CNPJ DV','NOME FANTASIA']]\n",
    "df_nome_fantasia=df_nome_fantasia[df_nome_fantasia['NOME FANTASIA']!=0]\n",
    "df_nome_fantasia=df_nome_fantasia.drop_duplicates().reset_index(drop=True)\n",
    "df_nome_fantasia.to_pickle('dados_tabela/df_nome_fantasia.pickle')\n",
    "df_nome_fantasia.info()"
   ]
  },
  {
   "cell_type": "code",
   "execution_count": null,
   "metadata": {},
   "outputs": [],
   "source": [
    "df_cnpj_completo.to_pickle('dados_tabela/df_dados_cnpj_endereco.pickle')\n",
    "df_cnpj_completo.info()"
   ]
  },
  {
   "cell_type": "code",
   "execution_count": 47,
   "metadata": {},
   "outputs": [
    {
     "name": "stdout",
     "output_type": "stream",
     "text": [
      "<class 'pandas.core.frame.DataFrame'>\n",
      "RangeIndex: 3 entries, 0 to 2\n",
      "Data columns (total 2 columns):\n",
      "PORTE DA EMPRESA    3 non-null int64\n",
      "DESCRICAO           3 non-null object\n",
      "dtypes: int64(1), object(1)\n",
      "memory usage: 176.0+ bytes\n"
     ]
    }
   ],
   "source": [
    "#PORTE DA EMPRESA\n",
    "lista_porte=['MICRO EMPRESA','EMPRESA DE PEQUENO','MEDIO/GRANDE']\n",
    "lista_pk=[1,3,5]\n",
    "df_porte=pd.DataFrame([])\n",
    "df_porte['PORTE DA EMPRESA']=lista_pk\n",
    "df_porte['DESCRICAO']=lista_porte\n",
    "df_porte.to_pickle('dados_tabela/df_porte.pickle')\n",
    "df_porte.info()"
   ]
  },
  {
   "cell_type": "code",
   "execution_count": 48,
   "metadata": {
    "scrolled": true
   },
   "outputs": [
    {
     "data": {
      "text/html": [
       "<div>\n",
       "<style scoped>\n",
       "    .dataframe tbody tr th:only-of-type {\n",
       "        vertical-align: middle;\n",
       "    }\n",
       "\n",
       "    .dataframe tbody tr th {\n",
       "        vertical-align: top;\n",
       "    }\n",
       "\n",
       "    .dataframe thead th {\n",
       "        text-align: right;\n",
       "    }\n",
       "</style>\n",
       "<table border=\"1\" class=\"dataframe\">\n",
       "  <thead>\n",
       "    <tr style=\"text-align: right;\">\n",
       "      <th></th>\n",
       "      <th>PK_COD_MUNICIPIO</th>\n",
       "      <th>MUNICIPIO</th>\n",
       "    </tr>\n",
       "  </thead>\n",
       "  <tbody>\n",
       "    <tr>\n",
       "      <td>0</td>\n",
       "      <td>6681</td>\n",
       "      <td>MARILIA</td>\n",
       "    </tr>\n",
       "    <tr>\n",
       "      <td>1</td>\n",
       "      <td>4451</td>\n",
       "      <td>DOM JOAQUIM</td>\n",
       "    </tr>\n",
       "    <tr>\n",
       "      <td>2</td>\n",
       "      <td>2893</td>\n",
       "      <td>JAIBA</td>\n",
       "    </tr>\n",
       "    <tr>\n",
       "      <td>3</td>\n",
       "      <td>4555</td>\n",
       "      <td>GRAO MOGOL</td>\n",
       "    </tr>\n",
       "    <tr>\n",
       "      <td>4</td>\n",
       "      <td>4123</td>\n",
       "      <td>BELO HORIZONTE</td>\n",
       "    </tr>\n",
       "    <tr>\n",
       "      <td>...</td>\n",
       "      <td>...</td>\n",
       "      <td>...</td>\n",
       "    </tr>\n",
       "    <tr>\n",
       "      <td>3797</td>\n",
       "      <td>7049</td>\n",
       "      <td>SANTA RITA D'OESTE</td>\n",
       "    </tr>\n",
       "    <tr>\n",
       "      <td>3798</td>\n",
       "      <td>816</td>\n",
       "      <td>QUADRA</td>\n",
       "    </tr>\n",
       "    <tr>\n",
       "      <td>3799</td>\n",
       "      <td>1050</td>\n",
       "      <td>ABADIA DE GOIAS</td>\n",
       "    </tr>\n",
       "    <tr>\n",
       "      <td>3800</td>\n",
       "      <td>2841</td>\n",
       "      <td>PIRANHAS</td>\n",
       "    </tr>\n",
       "    <tr>\n",
       "      <td>3801</td>\n",
       "      <td>1178</td>\n",
       "      <td>FIGUEIRAO</td>\n",
       "    </tr>\n",
       "  </tbody>\n",
       "</table>\n",
       "<p>3802 rows × 2 columns</p>\n",
       "</div>"
      ],
      "text/plain": [
       "      PK_COD_MUNICIPIO           MUNICIPIO\n",
       "0                 6681             MARILIA\n",
       "1                 4451         DOM JOAQUIM\n",
       "2                 2893               JAIBA\n",
       "3                 4555          GRAO MOGOL\n",
       "4                 4123      BELO HORIZONTE\n",
       "...                ...                 ...\n",
       "3797              7049  SANTA RITA D'OESTE\n",
       "3798               816              QUADRA\n",
       "3799              1050     ABADIA DE GOIAS\n",
       "3800              2841            PIRANHAS\n",
       "3801              1178           FIGUEIRAO\n",
       "\n",
       "[3802 rows x 2 columns]"
      ]
     },
     "execution_count": 48,
     "metadata": {},
     "output_type": "execute_result"
    }
   ],
   "source": [
    "df_municipio=pd.read_pickle('dados_tabela/df_municipio_table.pickle')\n",
    "df_municipio"
   ]
  },
  {
   "cell_type": "code",
   "execution_count": 49,
   "metadata": {},
   "outputs": [
    {
     "name": "stdout",
     "output_type": "stream",
     "text": [
      "<class 'pandas.core.frame.DataFrame'>\n",
      "Int64Index: 1681 entries, 0 to 1680\n",
      "Data columns (total 3 columns):\n",
      "PK_CNAE    1681 non-null int32\n",
      "Tipo       1681 non-null object\n",
      "CNAE       1681 non-null object\n",
      "dtypes: int32(1), object(2)\n",
      "memory usage: 46.0+ KB\n"
     ]
    }
   ],
   "source": [
    "df_diccnae=pd.read_csv('../F.K03200$Z.D10510.CNAECSV', sep=';', names=['PK_CNAE','CNAE'],encoding = \"ISO-8859-1\")\n",
    "df_cnae=pd.DataFrame()\n",
    "df_cnae2=pd.DataFrame()\n",
    "df_cnae['PK_CNAE']=list(df_cnpj_completo['CNAE FISCAL PRINCIPAL'].unique())\n",
    "df_cnae['Tipo']='CNAE_PRINCIPAL'\n",
    "df_cnae2['PK_CNAE']=list(df_cnpj_completo['CNAE FISCAL SEC'].unique())\n",
    "lista_secund=[]\n",
    "for x in df_cnae2['PK_CNAE']:\n",
    "    try:\n",
    "        a=x.split(',')\n",
    "    except:\n",
    "        a=x\n",
    "    try:\n",
    "        lista_secund.extend(a)\n",
    "    except:\n",
    "        lista_secund.append(a)\n",
    "len(lista_secund)\n",
    "df_cnae2=pd.DataFrame()\n",
    "df_cnae2['PK_CNAE']=lista_secund\n",
    "df_cnae2['Tipo']='CNAE_SEC'\n",
    "df_cnae2=df_cnae2[df_cnae2['PK_CNAE']!=0]\n",
    "df_cnae2=df_cnae2.drop_duplicates().reset_index(drop=True)\n",
    "df_cnae_f=pd.concat([df_cnae,df_cnae2])\n",
    "df_cnae_f['PK_CNAE']=df_cnae_f['PK_CNAE'].astype('int')\n",
    "df_cnae_f=df_cnae_f.merge(df_diccnae, on='PK_CNAE')\n",
    "df_cnae_f.to_pickle('dados_tabela/df_cnae_table.pickle')\n",
    "df_cnae_f.info()"
   ]
  },
  {
   "cell_type": "code",
   "execution_count": 50,
   "metadata": {},
   "outputs": [
    {
     "name": "stdout",
     "output_type": "stream",
     "text": [
      "<class 'pandas.core.frame.DataFrame'>\n",
      "Int64Index: 27 entries, 0 to 26\n",
      "Data columns (total 2 columns):\n",
      "PK_COD_NAT_JURI    27 non-null int64\n",
      "NAT_JURI           27 non-null object\n",
      "dtypes: int64(1), object(1)\n",
      "memory usage: 648.0+ bytes\n"
     ]
    }
   ],
   "source": [
    "df_dicNatureza=pd.read_csv('../F.K03200$Z.D10510.NATJUCSV', sep=';', names=['PK_COD_NAT_JURI','NAT_JURI'],encoding = \"ISO-8859-1\")\n",
    "df_nat_juri=pd.DataFrame()\n",
    "df_nat_juri['PK_COD_NAT_JURI']=list(df_cnpj['NATUREZA JURÍDICA'].unique())\n",
    "df_nat_juri=df_nat_juri.merge(df_dicNatureza, on='PK_COD_NAT_JURI')\n",
    "df_nat_juri.to_pickle('dados_tabela/df_nat_juri_table.pickle')\n",
    "df_nat_juri.info()"
   ]
  },
  {
   "cell_type": "code",
   "execution_count": 51,
   "metadata": {},
   "outputs": [
    {
     "name": "stdout",
     "output_type": "stream",
     "text": [
      "<class 'pandas.core.frame.DataFrame'>\n",
      "Int64Index: 14 entries, 0 to 13\n",
      "Data columns (total 2 columns):\n",
      "PK_COD_RESPONSAVEL    14 non-null int64\n",
      "RESPONSAVEL           14 non-null object\n",
      "dtypes: int64(1), object(1)\n",
      "memory usage: 336.0+ bytes\n"
     ]
    }
   ],
   "source": [
    "df_dicResp=pd.read_csv('../F.K03200$Z.D10510.QUALSCSV', sep=';', names=['PK_COD_RESPONSAVEL','RESPONSAVEL'],encoding = \"ISO-8859-1\")\n",
    "df_responsavel=pd.DataFrame()\n",
    "df_responsavel['PK_COD_RESPONSAVEL']=list(df_cnpj['RESPONSÁVEL'].unique())\n",
    "df_responsavel=df_responsavel.merge(df_dicResp, on='PK_COD_RESPONSAVEL')\n",
    "df_responsavel.to_pickle('dados_tabela/df_responsavel_table.pickle')\n",
    "df_responsavel.info()"
   ]
  },
  {
   "cell_type": "code",
   "execution_count": 52,
   "metadata": {},
   "outputs": [
    {
     "name": "stdout",
     "output_type": "stream",
     "text": [
      "<class 'pandas.core.frame.DataFrame'>\n",
      "RangeIndex: 14 entries, 0 to 13\n",
      "Data columns (total 3 columns):\n",
      "Geral    14 non-null object\n",
      "Ano      14 non-null int32\n",
      "CFEM     14 non-null object\n",
      "dtypes: int32(1), object(2)\n",
      "memory usage: 408.0+ bytes\n"
     ]
    }
   ],
   "source": [
    "df_cfem_anos=pd.read_pickle('arrecadacao_cfem.pickle')\n",
    "df_cfem_anos['Ano']=df_cfem_anos['Ano'].astype('int')\n",
    "df_cfem_anos.to_pickle('dados_tabela/df_cfem_anos.pickle')\n",
    "df_cfem_anos.info()"
   ]
  },
  {
   "cell_type": "code",
   "execution_count": 53,
   "metadata": {},
   "outputs": [
    {
     "name": "stdout",
     "output_type": "stream",
     "text": [
      "<class 'pandas.core.frame.DataFrame'>\n",
      "Int64Index: 378 entries, 391 to 17\n",
      "Data columns (total 16 columns):\n",
      "Estado    378 non-null object\n",
      "jan       378 non-null object\n",
      "fev       378 non-null object\n",
      "mar       378 non-null object\n",
      "abr       378 non-null object\n",
      "mai       378 non-null object\n",
      "jun       378 non-null object\n",
      "jul       378 non-null object\n",
      "ago       378 non-null object\n",
      "set       378 non-null object\n",
      "out       378 non-null object\n",
      "nov       378 non-null object\n",
      "dez       378 non-null object\n",
      "Total     378 non-null object\n",
      "Ano       378 non-null int32\n",
      "Total2    378 non-null float64\n",
      "dtypes: float64(1), int32(1), object(14)\n",
      "memory usage: 48.7+ KB\n"
     ]
    }
   ],
   "source": [
    "df_cfem_estados=pd.read_pickle('df_estados_cfem.pickle')\n",
    "df_cfem_estados=df_cfem_estados[~df_cfem_estados['Estado'].str.contains('Total')].sort_values('Ano')\n",
    "df_cfem_estados['Ano']=df_cfem_estados['Ano'].astype('int')\n",
    "df_cfem_estados=df_cfem_estados[df_cfem_estados['Total']!='Total.']\n",
    "df_cfem_estados['Total2']=df_cfem_estados['Total'].apply(lambda x: float(x.replace('.','').replace(',','.')))\n",
    "df_cfem_estados.to_pickle('dados_tabela/df_cfem_estados.pickle')\n",
    "df_cfem_estados.info()"
   ]
  },
  {
   "cell_type": "code",
   "execution_count": 54,
   "metadata": {},
   "outputs": [
    {
     "name": "stdout",
     "output_type": "stream",
     "text": [
      "<class 'pandas.core.frame.DataFrame'>\n",
      "Int64Index: 33172 entries, 33166 to 19492\n",
      "Data columns (total 17 columns):\n",
      "Municipio    33172 non-null object\n",
      "jan          33172 non-null object\n",
      "fev          33172 non-null object\n",
      "mar          33172 non-null object\n",
      "abr          33172 non-null object\n",
      "mai          33172 non-null object\n",
      "jun          33172 non-null object\n",
      "jul          33172 non-null object\n",
      "ago          33172 non-null object\n",
      "set          33172 non-null object\n",
      "out          33172 non-null object\n",
      "nov          33172 non-null object\n",
      "dez          33172 non-null object\n",
      "Total        33172 non-null object\n",
      "Ano          33172 non-null int32\n",
      "UF           33172 non-null object\n",
      "Total2       33172 non-null float64\n",
      "dtypes: float64(1), int32(1), object(15)\n",
      "memory usage: 4.4+ MB\n"
     ]
    }
   ],
   "source": [
    "df_cfem_municipio=pd.read_pickle('df_municipios_cfem.pickles')\n",
    "df_cfem_municipio=df_cfem_municipio[~df_cfem_municipio['Estado'].str.contains('Total')]\n",
    "df_cfem_municipio=df_cfem_municipio.rename({'Municipio':'UF','Estado':'Municipio'},axis=1)\n",
    "df_cfem_municipio['Ano']=df_cfem_municipio['Ano'].astype('int')\n",
    "df_cfem_municipio=df_cfem_municipio[df_cfem_municipio['Total']!='Total.']\n",
    "df_cfem_municipio['Total2']=df_cfem_municipio['Total'].apply(lambda x: float(x.replace('.','').replace(',','.')))\n",
    "df_cfem_municipio.to_pickle('dados_tabela/df_cfem_municipio.pickle')\n",
    "df_cfem_municipio.info()"
   ]
  },
  {
   "cell_type": "code",
   "execution_count": null,
   "metadata": {},
   "outputs": [],
   "source": [
    "df_cnae_f.nunique()"
   ]
  },
  {
   "cell_type": "code",
   "execution_count": null,
   "metadata": {},
   "outputs": [],
   "source": [
    "df_cnpjs_unicos.nunique()"
   ]
  },
  {
   "cell_type": "code",
   "execution_count": null,
   "metadata": {},
   "outputs": [],
   "source": [
    "df_cfem_estados[df_cfem_estados['Total'].str.contains('Total')]"
   ]
  },
  {
   "cell_type": "code",
   "execution_count": 31,
   "metadata": {},
   "outputs": [
    {
     "ename": "NameError",
     "evalue": "name 'df_dicMunicipio' is not defined",
     "output_type": "error",
     "traceback": [
      "\u001b[1;31m---------------------------------------------------------------------------\u001b[0m",
      "\u001b[1;31mNameError\u001b[0m                                 Traceback (most recent call last)",
      "\u001b[1;32m<ipython-input-31-0e4f03623961>\u001b[0m in \u001b[0;36m<module>\u001b[1;34m\u001b[0m\n\u001b[1;32m----> 1\u001b[1;33m \u001b[0mdf_dicMunicipio\u001b[0m\u001b[1;33m.\u001b[0m\u001b[0msort_values\u001b[0m\u001b[1;33m(\u001b[0m\u001b[1;34m'MUNICIPIO'\u001b[0m\u001b[1;33m)\u001b[0m\u001b[1;33m\u001b[0m\u001b[1;33m\u001b[0m\u001b[0m\n\u001b[0m",
      "\u001b[1;31mNameError\u001b[0m: name 'df_dicMunicipio' is not defined"
     ]
    }
   ],
   "source": [
    "df_dicMunicipio.sort_values('MUNICIPIO')"
   ]
  },
  {
   "cell_type": "code",
   "execution_count": 32,
   "metadata": {},
   "outputs": [
    {
     "data": {
      "text/html": [
       "<div>\n",
       "<style scoped>\n",
       "    .dataframe tbody tr th:only-of-type {\n",
       "        vertical-align: middle;\n",
       "    }\n",
       "\n",
       "    .dataframe tbody tr th {\n",
       "        vertical-align: top;\n",
       "    }\n",
       "\n",
       "    .dataframe thead th {\n",
       "        text-align: right;\n",
       "    }\n",
       "</style>\n",
       "<table border=\"1\" class=\"dataframe\">\n",
       "  <thead>\n",
       "    <tr style=\"text-align: right;\">\n",
       "      <th></th>\n",
       "      <th>PK</th>\n",
       "      <th>Operacao</th>\n",
       "      <th>FK_METADADOS</th>\n",
       "      <th>Ano</th>\n",
       "      <th>FK_CNPJ</th>\n",
       "      <th>FK_SUBSTANCIA</th>\n",
       "      <th>UF</th>\n",
       "      <th>Município</th>\n",
       "    </tr>\n",
       "  </thead>\n",
       "  <tbody>\n",
       "    <tr>\n",
       "      <td>81787</td>\n",
       "      <td>76968op</td>\n",
       "      <td>875326.66</td>\n",
       "      <td>DDOP</td>\n",
       "      <td>2014</td>\n",
       "      <td>608pfpj</td>\n",
       "      <td>39subs</td>\n",
       "      <td>MG</td>\n",
       "      <td>ABADIA DOS DOURADOS</td>\n",
       "    </tr>\n",
       "    <tr>\n",
       "      <td>146452</td>\n",
       "      <td>139674op</td>\n",
       "      <td>281138.52</td>\n",
       "      <td>DDOP</td>\n",
       "      <td>2021</td>\n",
       "      <td>17855pfpj</td>\n",
       "      <td>39subs</td>\n",
       "      <td>MG</td>\n",
       "      <td>ABADIA DOS DOURADOS</td>\n",
       "    </tr>\n",
       "    <tr>\n",
       "      <td>18727</td>\n",
       "      <td>16327op</td>\n",
       "      <td>0.00</td>\n",
       "      <td>DDOP</td>\n",
       "      <td>2015</td>\n",
       "      <td>14521pfpj</td>\n",
       "      <td>61subs</td>\n",
       "      <td>MG</td>\n",
       "      <td>ABADIA DOS DOURADOS</td>\n",
       "    </tr>\n",
       "    <tr>\n",
       "      <td>7112</td>\n",
       "      <td>6556op</td>\n",
       "      <td>55735.00</td>\n",
       "      <td>DDOP</td>\n",
       "      <td>2004</td>\n",
       "      <td>4277pfpj</td>\n",
       "      <td>234subs</td>\n",
       "      <td>MG</td>\n",
       "      <td>ABADIA DOS DOURADOS</td>\n",
       "    </tr>\n",
       "    <tr>\n",
       "      <td>7111</td>\n",
       "      <td>6556op</td>\n",
       "      <td>55735.00</td>\n",
       "      <td>DDOP</td>\n",
       "      <td>2004</td>\n",
       "      <td>4277pfpj</td>\n",
       "      <td>234subs</td>\n",
       "      <td>MG</td>\n",
       "      <td>ABADIA DOS DOURADOS</td>\n",
       "    </tr>\n",
       "    <tr>\n",
       "      <td>...</td>\n",
       "      <td>...</td>\n",
       "      <td>...</td>\n",
       "      <td>...</td>\n",
       "      <td>...</td>\n",
       "      <td>...</td>\n",
       "      <td>...</td>\n",
       "      <td>...</td>\n",
       "      <td>...</td>\n",
       "    </tr>\n",
       "    <tr>\n",
       "      <td>102919</td>\n",
       "      <td>97598op</td>\n",
       "      <td>168158.63</td>\n",
       "      <td>DDOP</td>\n",
       "      <td>2015</td>\n",
       "      <td>16pfpj</td>\n",
       "      <td>39subs</td>\n",
       "      <td>SP</td>\n",
       "      <td>ZACARIAS</td>\n",
       "    </tr>\n",
       "    <tr>\n",
       "      <td>102895</td>\n",
       "      <td>97574op</td>\n",
       "      <td>28383.30</td>\n",
       "      <td>DDOP</td>\n",
       "      <td>2008</td>\n",
       "      <td>16pfpj</td>\n",
       "      <td>39subs</td>\n",
       "      <td>SP</td>\n",
       "      <td>ZACARIAS</td>\n",
       "    </tr>\n",
       "    <tr>\n",
       "      <td>112819</td>\n",
       "      <td>107255op</td>\n",
       "      <td>803664.78</td>\n",
       "      <td>DDOP</td>\n",
       "      <td>2017</td>\n",
       "      <td>1732pfpj</td>\n",
       "      <td>39subs</td>\n",
       "      <td>SP</td>\n",
       "      <td>ZACARIAS</td>\n",
       "    </tr>\n",
       "    <tr>\n",
       "      <td>148574</td>\n",
       "      <td>141789op</td>\n",
       "      <td>444181.35</td>\n",
       "      <td>DDOP</td>\n",
       "      <td>2015</td>\n",
       "      <td>13466pfpj</td>\n",
       "      <td>61subs</td>\n",
       "      <td>MA</td>\n",
       "      <td>ZE DOCA</td>\n",
       "    </tr>\n",
       "    <tr>\n",
       "      <td>148573</td>\n",
       "      <td>141788op</td>\n",
       "      <td>93622.99</td>\n",
       "      <td>DDOP</td>\n",
       "      <td>2014</td>\n",
       "      <td>13466pfpj</td>\n",
       "      <td>61subs</td>\n",
       "      <td>MA</td>\n",
       "      <td>ZE DOCA</td>\n",
       "    </tr>\n",
       "  </tbody>\n",
       "</table>\n",
       "<p>150291 rows × 8 columns</p>\n",
       "</div>"
      ],
      "text/plain": [
       "              PK   Operacao FK_METADADOS   Ano    FK_CNPJ FK_SUBSTANCIA  UF  \\\n",
       "81787    76968op  875326.66         DDOP  2014    608pfpj        39subs  MG   \n",
       "146452  139674op  281138.52         DDOP  2021  17855pfpj        39subs  MG   \n",
       "18727    16327op       0.00         DDOP  2015  14521pfpj        61subs  MG   \n",
       "7112      6556op   55735.00         DDOP  2004   4277pfpj       234subs  MG   \n",
       "7111      6556op   55735.00         DDOP  2004   4277pfpj       234subs  MG   \n",
       "...          ...        ...          ...   ...        ...           ...  ..   \n",
       "102919   97598op  168158.63         DDOP  2015     16pfpj        39subs  SP   \n",
       "102895   97574op   28383.30         DDOP  2008     16pfpj        39subs  SP   \n",
       "112819  107255op  803664.78         DDOP  2017   1732pfpj        39subs  SP   \n",
       "148574  141789op  444181.35         DDOP  2015  13466pfpj        61subs  MA   \n",
       "148573  141788op   93622.99         DDOP  2014  13466pfpj        61subs  MA   \n",
       "\n",
       "                  Município  \n",
       "81787   ABADIA DOS DOURADOS  \n",
       "146452  ABADIA DOS DOURADOS  \n",
       "18727   ABADIA DOS DOURADOS  \n",
       "7112    ABADIA DOS DOURADOS  \n",
       "7111    ABADIA DOS DOURADOS  \n",
       "...                     ...  \n",
       "102919             ZACARIAS  \n",
       "102895             ZACARIAS  \n",
       "112819             ZACARIAS  \n",
       "148574              ZE DOCA  \n",
       "148573              ZE DOCA  \n",
       "\n",
       "[150291 rows x 8 columns]"
      ]
     },
     "execution_count": 32,
     "metadata": {},
     "output_type": "execute_result"
    }
   ],
   "source": [
    "df_operacao_valores['Município']=df_operacao_valores['Município'].apply(lambda x: acentuacao(x))\n",
    "df_operacao_valores.sort_values('Município')"
   ]
  },
  {
   "cell_type": "code",
   "execution_count": 56,
   "metadata": {},
   "outputs": [
    {
     "data": {
      "text/plain": [
       "{'ABAIARA',\n",
       " 'ABAIRA',\n",
       " 'ABDON BATISTA',\n",
       " 'ACREUNA',\n",
       " 'ACU',\n",
       " 'AGUA FRIA DE GOIAS',\n",
       " 'AGUA LIMPA',\n",
       " 'AGUANIL',\n",
       " 'AGUIAR',\n",
       " 'ALAGOINHA',\n",
       " 'ALCANTARAS',\n",
       " 'ALPESTRE',\n",
       " 'ALTINHO',\n",
       " 'ALTO ALEGRE',\n",
       " 'AMAJARI',\n",
       " 'AMORINOPOLIS',\n",
       " 'ANAPU',\n",
       " 'ANGELANDIA',\n",
       " 'ANGICAL DO PIAUI',\n",
       " 'ANTONIO JOAO',\n",
       " 'APIACAS',\n",
       " 'ARABUTA',\n",
       " 'ARAGOMINAS',\n",
       " 'ARAIOSES',\n",
       " 'ARANDU',\n",
       " 'ARAPOEMA',\n",
       " 'ARAPONGA',\n",
       " 'ARCO-IRIS',\n",
       " 'AREIA',\n",
       " 'ARENOPOLIS',\n",
       " 'ARES',\n",
       " 'AROAZES',\n",
       " 'ARRAIAL DO CABO',\n",
       " 'ASSAI',\n",
       " 'BACURITUBA',\n",
       " 'BALNEARIO PICARRAS',\n",
       " 'BARAO',\n",
       " 'BARAO DE ANTONINA',\n",
       " 'BARRA DE SANTANA',\n",
       " 'BARRACAO',\n",
       " 'BARREIRINHA',\n",
       " 'BARREIRINHAS',\n",
       " 'BELA VISTA DO MARANHAO',\n",
       " 'BELA VISTA DO TOLDO',\n",
       " 'BELEM DO BREJO DO CRUZ',\n",
       " 'BELTERRA',\n",
       " 'BENJAMIN CONSTANT',\n",
       " 'BETANIA',\n",
       " 'BIRITIBA MIRIM',\n",
       " 'BOA VENTURA',\n",
       " 'BOA VISTA DAS MISSOES',\n",
       " 'BOCA DA MATA',\n",
       " 'BOM JARDIM DA SERRA',\n",
       " 'BOM JESUS DE GOIAS',\n",
       " 'BOM PRINCIPIO DO PIAUI',\n",
       " 'BONFINOPOLIS DE MINAS',\n",
       " 'BOQUEIRAO DO LEAO',\n",
       " 'BORACEIA',\n",
       " 'BORBA',\n",
       " 'BOTUPORA',\n",
       " 'BRANQUINHA',\n",
       " 'BRAZABRANTES',\n",
       " 'BRAZOPOLIS',\n",
       " 'BREJO GRANDE DO ARAGUAIA',\n",
       " 'BREJOLANDIA',\n",
       " 'BRODOWSKI',\n",
       " 'BUJARU',\n",
       " 'BURITIRAMA',\n",
       " 'CAAPIRANGA',\n",
       " 'CABACEIRAS',\n",
       " 'CACIMBA DE AREIA',\n",
       " 'CACIMBINHAS',\n",
       " 'CACIQUE DOBLE',\n",
       " 'CAEM',\n",
       " 'CAETES',\n",
       " 'CAICARA',\n",
       " 'CAICARA DO NORTE',\n",
       " 'CAJUEIRO',\n",
       " 'CAJURI',\n",
       " 'CAMPINA DO SIMAO',\n",
       " 'CAMPOS ALTOS',\n",
       " 'CANAPI',\n",
       " 'CANAVIEIRA',\n",
       " 'CANDIDO RODRIGUES',\n",
       " 'CANUDOS DO VALE',\n",
       " 'CAPAO DO CIPO',\n",
       " 'CAPIM',\n",
       " 'CAPIM BRANCO',\n",
       " 'CAPISTRANO',\n",
       " 'CAPOEIRAS',\n",
       " 'CAPUTIRA',\n",
       " 'CARAPEBUS',\n",
       " 'CAREIRO DA VARZEA',\n",
       " 'CARMO DO RIO VERDE',\n",
       " 'CASSIA DOS COQUEIROS',\n",
       " 'CATIGUA',\n",
       " 'CATUNDA',\n",
       " 'CATURAI',\n",
       " 'CELSO RAMOS',\n",
       " 'CENTRAL DE MINAS',\n",
       " 'CERQUEIRA CESAR',\n",
       " 'CERRO CORA',\n",
       " 'CHORO',\n",
       " 'COLONIA DO PIAUI',\n",
       " 'CONCEICAO DO ALMEIDA',\n",
       " 'CONSELHEIRO MAIRINCK',\n",
       " 'CORDEIRO',\n",
       " 'CORONEL DOMINGOS SOARES',\n",
       " 'CORREGO DO BOM JESUS',\n",
       " 'CORREGO DO OURO',\n",
       " 'COSMORAMA',\n",
       " 'CRAIBAS',\n",
       " 'CRISTAL DO SUL',\n",
       " 'CRUZEIRO DO OESTE',\n",
       " 'CURRAL DE CIMA',\n",
       " 'CURRAL NOVO DO PIAUI',\n",
       " 'CUSTODIA',\n",
       " 'DESCANSO',\n",
       " \"DIAMANTE D'OESTE\",\n",
       " 'DIOGO DE VASCONCELOS',\n",
       " 'DIVISA NOVA',\n",
       " 'DOM CAVATI',\n",
       " 'DOMINGOS MOURAO',\n",
       " 'DORES DO TURVO',\n",
       " 'ELDORADO DO CARAJAS',\n",
       " 'ELISIARIO',\n",
       " 'ENGENHEIRO BELTRAO',\n",
       " 'ERNESTINA',\n",
       " 'ERVAL VELHO',\n",
       " 'ESTRELA DE ALAGOAS',\n",
       " 'ESTRELA VELHA',\n",
       " 'FAMA',\n",
       " 'FEIRA GRANDE',\n",
       " 'FERVEDOURO',\n",
       " \"FIGUEIROPOLIS D'OESTE\",\n",
       " 'FLORA RICA',\n",
       " 'FLORINEA',\n",
       " 'FREI LAGONEGRO',\n",
       " 'FREI MARTINHO',\n",
       " 'GALIA',\n",
       " 'GALINHOS',\n",
       " 'GETULINA',\n",
       " 'GOIANORTE',\n",
       " 'GOIOXIM',\n",
       " 'GOVERNADOR JORGE TEIXEIRA',\n",
       " 'GRACHO CARDOSO',\n",
       " 'GRAMADO DOS LOUREIROS',\n",
       " 'GUAIRACA',\n",
       " 'IBARETAMA',\n",
       " 'IBICUI',\n",
       " 'IBIPEBA',\n",
       " 'IBIRAPITANGA',\n",
       " 'IBIRAREMA',\n",
       " 'IEPE',\n",
       " 'IGACI',\n",
       " 'ILHABELA',\n",
       " 'INACIOLANDIA',\n",
       " 'INGA',\n",
       " 'IPECAETA',\n",
       " 'IPIXUNA',\n",
       " 'IRAJUBA',\n",
       " 'ITAGIBA',\n",
       " 'ITAGUARI',\n",
       " 'ITAJU',\n",
       " 'ITAMARATI',\n",
       " 'ITAMARI',\n",
       " 'ITAPIRAPUA',\n",
       " 'ITATIRA',\n",
       " 'ITATUBA',\n",
       " 'ITAUBA',\n",
       " 'IVORA',\n",
       " 'JABORA',\n",
       " 'JABOTI',\n",
       " 'JACARAU',\n",
       " 'JAPARATINGA',\n",
       " 'JAPORA',\n",
       " 'JOIA',\n",
       " 'JUAREZ TAVORA',\n",
       " 'JULIO MESQUITA',\n",
       " 'JUTAI',\n",
       " 'JUTI',\n",
       " 'LAGOA DE PEDRAS',\n",
       " 'LAGOAO',\n",
       " 'LAJEADO GRANDE',\n",
       " 'LAPAO',\n",
       " 'LAURENTINO',\n",
       " 'LEOPOLIS',\n",
       " 'MACHADINHO',\n",
       " 'MACIEIRA',\n",
       " 'MAJOR ISIDORO',\n",
       " 'MANCIO LIMA',\n",
       " 'MARCELINO RAMOS',\n",
       " 'MARIOPOLIS',\n",
       " 'MARIZOPOLIS',\n",
       " 'MARTINOPOLIS',\n",
       " 'MAUA DA SERRA',\n",
       " 'MERUOCA',\n",
       " 'MIRAIMA',\n",
       " 'MOEDA',\n",
       " 'MOGEIRO',\n",
       " 'MOGI GUACU',\n",
       " 'MONTE CARLO',\n",
       " 'MONTE DO CARMO',\n",
       " 'MORAUJO',\n",
       " 'MORMACO',\n",
       " 'MORRINHOS DO SUL',\n",
       " 'MORRO REDONDO',\n",
       " 'MUANA',\n",
       " 'MUITOS CAPOES',\n",
       " 'MUQUEM DO SAO FRANCISCO',\n",
       " 'NOVA ALVORADA',\n",
       " 'NOVA AURORA',\n",
       " 'NOVA CRUZ',\n",
       " 'NOVA ERECHIM',\n",
       " 'NOVA EUROPA',\n",
       " 'NOVA GUARITA',\n",
       " 'NOVA IORQUE',\n",
       " 'NOVA TEBAS',\n",
       " 'NOVO BRASIL',\n",
       " 'NOVO LINO',\n",
       " 'NOVO MUNDO',\n",
       " 'NOVO ORIENTE',\n",
       " 'OLINDA NOVA DO MARANHAO',\n",
       " 'OURO VERDE DE GOIAS',\n",
       " 'PAIAL',\n",
       " 'PAINEL',\n",
       " 'PALMEIRA DO PIAUI',\n",
       " 'PANELAS',\n",
       " 'PARAIBANO',\n",
       " 'PARARI',\n",
       " 'PARICONHA',\n",
       " 'PASSA VINTE',\n",
       " 'PASSAGEM FRANCA DO PIAUI',\n",
       " 'PASSIRA',\n",
       " 'PAUINI',\n",
       " 'PAULO FRONTIN',\n",
       " 'PECANHA',\n",
       " 'PEDRO GOMES',\n",
       " 'PERITIBA',\n",
       " \"PEROLA D'OESTE\",\n",
       " 'PESCADOR',\n",
       " 'PINDARE-MIRIM',\n",
       " 'PINHAL',\n",
       " 'PIRES FERREIRA',\n",
       " 'PIRITIBA',\n",
       " 'PONTAL DO ARAGUAIA',\n",
       " 'PORTEIRAS',\n",
       " 'PORTO BARREIRO',\n",
       " 'PRANCHITA',\n",
       " 'PUXINANA',\n",
       " 'QUATA',\n",
       " 'QUEBRANGULO',\n",
       " 'REDENCAO DA SERRA',\n",
       " 'RELVADO',\n",
       " 'RERIUTABA',\n",
       " 'RIACHO DAS ALMAS',\n",
       " 'RIBEIRA DO PIAUI',\n",
       " 'RIBEIRAOZINHO',\n",
       " 'RIO BRANCO DO IVAI',\n",
       " 'RIO DO FOGO',\n",
       " 'RIO DO PRADO',\n",
       " 'RIVERSUL',\n",
       " 'ROMELANDIA',\n",
       " 'SAGRES',\n",
       " 'SALGADO DE SAO FELIX',\n",
       " 'SALITRE',\n",
       " 'SALOA',\n",
       " \"SANT'ANA DO LIVRAMENTO\",\n",
       " 'SANTA CECILIA DO SUL',\n",
       " 'SANTA ISABEL DO RIO NEGRO',\n",
       " 'SANTA IZABEL DO PARA',\n",
       " 'SANTA TEREZA',\n",
       " 'SANTA TEREZA DE GOIAS',\n",
       " 'SANTANA DE MANGUEIRA',\n",
       " 'SANTO ANTONIO DA ALEGRIA',\n",
       " 'SANTO ANTONIO DAS MISSOES',\n",
       " 'SANTO ANTONIO DO RIO ABAIXO',\n",
       " 'SAO BENTO DO UNA',\n",
       " 'SAO FRANCISCO DO GUAPORE',\n",
       " 'SAO FRANCISCO DO PARA',\n",
       " 'SAO JOAO DA LAGOA',\n",
       " 'SAO JOAO DE IRACEMA',\n",
       " 'SAO JOAO DO CARIRI',\n",
       " 'SAO JOAO DO OESTE',\n",
       " \"SAO JOAO DO PAU D'ALHO\",\n",
       " 'SAO JOAQUIM',\n",
       " 'SAO JOSE DO POVO',\n",
       " 'SAO JOSE DO SABUGI',\n",
       " 'SAO LUIZ DO NORTE',\n",
       " 'SAO MIGUEL DO ANTA',\n",
       " 'SAO PAULO DE OLIVENCA',\n",
       " 'SAO PEDRO DA CIPA',\n",
       " 'SAO PEDRO DE ALCANTARA',\n",
       " 'SAO PEDRO DO SUACUI',\n",
       " 'SAO SEBASTIAO DA AMOREIRA',\n",
       " 'SAO SEBASTIAO DO RIO PRETO',\n",
       " 'SAO VALERIO',\n",
       " 'SAO VENDELINO',\n",
       " 'SAPEACU',\n",
       " 'SEBASTIAO LARANJEIRAS',\n",
       " 'SEGREDO',\n",
       " 'SENADOR CORTES',\n",
       " 'SERRANOS',\n",
       " 'SERRARIA',\n",
       " 'SERTANEJA',\n",
       " 'SOSSEGO',\n",
       " 'SOUTO SOARES',\n",
       " 'SUL BRASIL',\n",
       " 'TACARATU',\n",
       " 'TALISMA',\n",
       " 'TAQUARAL',\n",
       " 'TAQUARAL DE GOIAS',\n",
       " 'TAQUARUCU DO SUL',\n",
       " 'TAQUARUSSU',\n",
       " 'TARTARUGALZINHO',\n",
       " 'TAVARES',\n",
       " 'TEJUPA',\n",
       " 'THEOBROMA',\n",
       " 'TIMBO GRANDE',\n",
       " 'TOCOS DO MOJI',\n",
       " 'TOUROS',\n",
       " 'TRAIRAO',\n",
       " 'TRAIRI',\n",
       " 'TRES FORQUILHAS',\n",
       " 'TRINDADE DO SUL',\n",
       " 'UBAPORANGA',\n",
       " 'UBIRAJARA',\n",
       " 'UMBUZEIRO',\n",
       " 'UMIRIM',\n",
       " 'UNIAO DO OESTE',\n",
       " 'URUANA',\n",
       " 'URUBICI',\n",
       " 'URUCUCA',\n",
       " 'VALE DE SAO DOMINGOS',\n",
       " 'VALE DO ANARI',\n",
       " 'VARJAO',\n",
       " 'VARRE-SAI',\n",
       " 'VERTENTES',\n",
       " 'VICENTE DUTRA',\n",
       " 'VICENTINA',\n",
       " 'VICENTINOPOLIS',\n",
       " 'VILA LANGARO',\n",
       " 'VIRGOLANDIA',\n",
       " 'VIRMOND',\n",
       " 'VOLTA GRANDE',\n",
       " 'XAMBRE',\n",
       " 'ZACARIAS'}"
      ]
     },
     "execution_count": 56,
     "metadata": {},
     "output_type": "execute_result"
    }
   ],
   "source": [
    "df_operacao_valores['Município']=df_operacao_valores['Município'].apply(lambda x: x.upper())\n",
    "set(list(df_operacao_valores['Município']))-set(list(df_dicMunicipio['MUNICIPIO']))"
   ]
  },
  {
   "cell_type": "code",
   "execution_count": null,
   "metadata": {},
   "outputs": [],
   "source": [
    "df_muni=pd.read_pickle"
   ]
  },
  {
   "cell_type": "code",
   "execution_count": null,
   "metadata": {},
   "outputs": [],
   "source": []
  },
  {
   "cell_type": "code",
   "execution_count": 34,
   "metadata": {},
   "outputs": [
    {
     "data": {
      "text/plain": [
       "'MUQUEM DO SAO FRANCISCO\\'\\ndf_integra=pd.DataFrame()\\ndf_integra[\\'PK_COD_MUNICIPIO\\']=[1720499]\\ndf_integra[\\'MUNICIPIO\\']=[\"SAO VALERIO\"]\\ndf_integra\\ndf_dicMunicipio=pd.concat([df_dicMunicipio,df_integra],ignore_index=True)\\ndf_dicMunicipio=df_dicMunicipio.drop_duplicates()\\ndf_dicMunicipio'"
      ]
     },
     "execution_count": 34,
     "metadata": {},
     "output_type": "execute_result"
    }
   ],
   "source": [
    "'''MUQUEM DO SAO FRANCISCO'\n",
    "df_integra=pd.DataFrame()\n",
    "df_integra['PK_COD_MUNICIPIO']=[1720499]\n",
    "df_integra['MUNICIPIO']=[\"SAO VALERIO\"]\n",
    "df_integra\n",
    "df_dicMunicipio=pd.concat([df_dicMunicipio,df_integra],ignore_index=True)\n",
    "df_dicMunicipio=df_dicMunicipio.drop_duplicates()\n",
    "df_dicMunicipio'''"
   ]
  },
  {
   "cell_type": "code",
   "execution_count": null,
   "metadata": {},
   "outputs": [],
   "source": []
  },
  {
   "cell_type": "code",
   "execution_count": null,
   "metadata": {},
   "outputs": [],
   "source": []
  },
  {
   "cell_type": "code",
   "execution_count": null,
   "metadata": {},
   "outputs": [],
   "source": []
  },
  {
   "cell_type": "code",
   "execution_count": null,
   "metadata": {},
   "outputs": [],
   "source": []
  }
 ],
 "metadata": {
  "kernelspec": {
   "display_name": "Python 3",
   "language": "python",
   "name": "python3"
  },
  "language_info": {
   "codemirror_mode": {
    "name": "ipython",
    "version": 3
   },
   "file_extension": ".py",
   "mimetype": "text/x-python",
   "name": "python",
   "nbconvert_exporter": "python",
   "pygments_lexer": "ipython3",
   "version": "3.7.1"
  }
 },
 "nbformat": 4,
 "nbformat_minor": 2
}
